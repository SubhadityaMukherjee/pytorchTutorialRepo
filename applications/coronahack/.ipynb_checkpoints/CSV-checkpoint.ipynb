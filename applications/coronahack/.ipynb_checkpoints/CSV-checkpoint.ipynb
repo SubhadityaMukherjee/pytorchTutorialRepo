{
 "cells": [
  {
   "cell_type": "code",
   "execution_count": 1,
   "id": "separate-circulation",
   "metadata": {
    "execution": {
     "iopub.execute_input": "2021-06-12T10:37:22.430171Z",
     "iopub.status.busy": "2021-06-12T10:37:22.429972Z",
     "iopub.status.idle": "2021-06-12T10:37:25.943777Z",
     "shell.execute_reply": "2021-06-12T10:37:25.943411Z",
     "shell.execute_reply.started": "2021-06-12T10:37:22.430113Z"
    }
   },
   "outputs": [],
   "source": [
    "%load_ext autoreload\n",
    "%autoreload 2\n",
    "\n",
    "%matplotlib inline\n",
    "\n",
    "import os\n",
    "os.environ['TORCH_HOME'] = \"/media/hdd/Datasets/\"\n",
    "import sys\n",
    "sys.path.append(\"/media/hdd/github/sprintdl/\")\n",
    "\n",
    "from sprintdl.main import *\n",
    "import sprintdl\n",
    "\n",
    "device = torch.device('cuda',0)\n",
    "from torch.nn import init\n",
    "import torch\n",
    "import math\n",
    "\n",
    "from sprintdl.models.efficientnet import *"
   ]
  },
  {
   "cell_type": "markdown",
   "id": "serial-quest",
   "metadata": {},
   "source": [
    "# Define required"
   ]
  },
  {
   "cell_type": "code",
   "execution_count": 2,
   "id": "diagnostic-working",
   "metadata": {
    "execution": {
     "iopub.execute_input": "2021-06-12T10:37:25.944649Z",
     "iopub.status.busy": "2021-06-12T10:37:25.944521Z",
     "iopub.status.idle": "2021-06-12T10:37:25.957678Z",
     "shell.execute_reply": "2021-06-12T10:37:25.957175Z",
     "shell.execute_reply.started": "2021-06-12T10:37:25.944635Z"
    }
   },
   "outputs": [],
   "source": [
    "import pandas as pd"
   ]
  },
  {
   "cell_type": "code",
   "execution_count": 3,
   "id": "breeding-diploma",
   "metadata": {
    "execution": {
     "iopub.execute_input": "2021-06-12T10:37:25.958752Z",
     "iopub.status.busy": "2021-06-12T10:37:25.958529Z",
     "iopub.status.idle": "2021-06-12T10:37:25.974039Z",
     "shell.execute_reply": "2021-06-12T10:37:25.973551Z",
     "shell.execute_reply.started": "2021-06-12T10:37:25.958734Z"
    }
   },
   "outputs": [],
   "source": [
    "fpath = Path(\"/media/hdd/Datasets/Coronahack-Chest-XRay-Dataset/Coronahack-Chest-XRay-Dataset/Chest_xray_Corona_Metadata.csv\")"
   ]
  },
  {
   "cell_type": "code",
   "execution_count": 4,
   "id": "electric-dietary",
   "metadata": {
    "execution": {
     "iopub.execute_input": "2021-06-12T10:37:25.975180Z",
     "iopub.status.busy": "2021-06-12T10:37:25.974926Z",
     "iopub.status.idle": "2021-06-12T10:37:26.007795Z",
     "shell.execute_reply": "2021-06-12T10:37:26.007127Z",
     "shell.execute_reply.started": "2021-06-12T10:37:25.975158Z"
    }
   },
   "outputs": [
    {
     "data": {
      "text/html": [
       "<div>\n",
       "<style scoped>\n",
       "    .dataframe tbody tr th:only-of-type {\n",
       "        vertical-align: middle;\n",
       "    }\n",
       "\n",
       "    .dataframe tbody tr th {\n",
       "        vertical-align: top;\n",
       "    }\n",
       "\n",
       "    .dataframe thead th {\n",
       "        text-align: right;\n",
       "    }\n",
       "</style>\n",
       "<table border=\"1\" class=\"dataframe\">\n",
       "  <thead>\n",
       "    <tr style=\"text-align: right;\">\n",
       "      <th></th>\n",
       "      <th>Unnamed: 0</th>\n",
       "      <th>X_ray_image_name</th>\n",
       "      <th>Label</th>\n",
       "      <th>Dataset_type</th>\n",
       "      <th>Label_2_Virus_category</th>\n",
       "      <th>Label_1_Virus_category</th>\n",
       "    </tr>\n",
       "  </thead>\n",
       "  <tbody>\n",
       "    <tr>\n",
       "      <th>0</th>\n",
       "      <td>0</td>\n",
       "      <td>IM-0128-0001.jpeg</td>\n",
       "      <td>Normal</td>\n",
       "      <td>TRAIN</td>\n",
       "      <td>NaN</td>\n",
       "      <td>NaN</td>\n",
       "    </tr>\n",
       "    <tr>\n",
       "      <th>1</th>\n",
       "      <td>1</td>\n",
       "      <td>IM-0127-0001.jpeg</td>\n",
       "      <td>Normal</td>\n",
       "      <td>TRAIN</td>\n",
       "      <td>NaN</td>\n",
       "      <td>NaN</td>\n",
       "    </tr>\n",
       "    <tr>\n",
       "      <th>2</th>\n",
       "      <td>2</td>\n",
       "      <td>IM-0125-0001.jpeg</td>\n",
       "      <td>Normal</td>\n",
       "      <td>TRAIN</td>\n",
       "      <td>NaN</td>\n",
       "      <td>NaN</td>\n",
       "    </tr>\n",
       "    <tr>\n",
       "      <th>3</th>\n",
       "      <td>3</td>\n",
       "      <td>IM-0122-0001.jpeg</td>\n",
       "      <td>Normal</td>\n",
       "      <td>TRAIN</td>\n",
       "      <td>NaN</td>\n",
       "      <td>NaN</td>\n",
       "    </tr>\n",
       "    <tr>\n",
       "      <th>4</th>\n",
       "      <td>4</td>\n",
       "      <td>IM-0119-0001.jpeg</td>\n",
       "      <td>Normal</td>\n",
       "      <td>TRAIN</td>\n",
       "      <td>NaN</td>\n",
       "      <td>NaN</td>\n",
       "    </tr>\n",
       "    <tr>\n",
       "      <th>...</th>\n",
       "      <td>...</td>\n",
       "      <td>...</td>\n",
       "      <td>...</td>\n",
       "      <td>...</td>\n",
       "      <td>...</td>\n",
       "      <td>...</td>\n",
       "    </tr>\n",
       "    <tr>\n",
       "      <th>95</th>\n",
       "      <td>95</td>\n",
       "      <td>IM-0261-0001.jpeg</td>\n",
       "      <td>Normal</td>\n",
       "      <td>TRAIN</td>\n",
       "      <td>NaN</td>\n",
       "      <td>NaN</td>\n",
       "    </tr>\n",
       "    <tr>\n",
       "      <th>96</th>\n",
       "      <td>96</td>\n",
       "      <td>IM-0257-0001.jpeg</td>\n",
       "      <td>Normal</td>\n",
       "      <td>TRAIN</td>\n",
       "      <td>NaN</td>\n",
       "      <td>NaN</td>\n",
       "    </tr>\n",
       "    <tr>\n",
       "      <th>97</th>\n",
       "      <td>97</td>\n",
       "      <td>IM-0256-0001.jpeg</td>\n",
       "      <td>Normal</td>\n",
       "      <td>TRAIN</td>\n",
       "      <td>NaN</td>\n",
       "      <td>NaN</td>\n",
       "    </tr>\n",
       "    <tr>\n",
       "      <th>98</th>\n",
       "      <td>98</td>\n",
       "      <td>IM-0255-0001.jpeg</td>\n",
       "      <td>Normal</td>\n",
       "      <td>TRAIN</td>\n",
       "      <td>NaN</td>\n",
       "      <td>NaN</td>\n",
       "    </tr>\n",
       "    <tr>\n",
       "      <th>99</th>\n",
       "      <td>99</td>\n",
       "      <td>IM-0253-0001.jpeg</td>\n",
       "      <td>Normal</td>\n",
       "      <td>TRAIN</td>\n",
       "      <td>NaN</td>\n",
       "      <td>NaN</td>\n",
       "    </tr>\n",
       "  </tbody>\n",
       "</table>\n",
       "<p>100 rows × 6 columns</p>\n",
       "</div>"
      ],
      "text/plain": [
       "    Unnamed: 0   X_ray_image_name   Label Dataset_type Label_2_Virus_category  \\\n",
       "0            0  IM-0128-0001.jpeg  Normal        TRAIN                    NaN   \n",
       "1            1  IM-0127-0001.jpeg  Normal        TRAIN                    NaN   \n",
       "2            2  IM-0125-0001.jpeg  Normal        TRAIN                    NaN   \n",
       "3            3  IM-0122-0001.jpeg  Normal        TRAIN                    NaN   \n",
       "4            4  IM-0119-0001.jpeg  Normal        TRAIN                    NaN   \n",
       "..         ...                ...     ...          ...                    ...   \n",
       "95          95  IM-0261-0001.jpeg  Normal        TRAIN                    NaN   \n",
       "96          96  IM-0257-0001.jpeg  Normal        TRAIN                    NaN   \n",
       "97          97  IM-0256-0001.jpeg  Normal        TRAIN                    NaN   \n",
       "98          98  IM-0255-0001.jpeg  Normal        TRAIN                    NaN   \n",
       "99          99  IM-0253-0001.jpeg  Normal        TRAIN                    NaN   \n",
       "\n",
       "   Label_1_Virus_category  \n",
       "0                     NaN  \n",
       "1                     NaN  \n",
       "2                     NaN  \n",
       "3                     NaN  \n",
       "4                     NaN  \n",
       "..                    ...  \n",
       "95                    NaN  \n",
       "96                    NaN  \n",
       "97                    NaN  \n",
       "98                    NaN  \n",
       "99                    NaN  \n",
       "\n",
       "[100 rows x 6 columns]"
      ]
     },
     "execution_count": 4,
     "metadata": {},
     "output_type": "execute_result"
    }
   ],
   "source": [
    "df = pd.read_csv(fpath); df.head(100)"
   ]
  },
  {
   "cell_type": "code",
   "execution_count": 5,
   "id": "experienced-episode",
   "metadata": {
    "execution": {
     "iopub.execute_input": "2021-06-12T10:37:26.008823Z",
     "iopub.status.busy": "2021-06-12T10:37:26.008665Z",
     "iopub.status.idle": "2021-06-12T10:37:26.024598Z",
     "shell.execute_reply": "2021-06-12T10:37:26.024229Z",
     "shell.execute_reply.started": "2021-06-12T10:37:26.008807Z"
    }
   },
   "outputs": [
    {
     "data": {
      "text/plain": [
       "(5910, 6)"
      ]
     },
     "execution_count": 5,
     "metadata": {},
     "output_type": "execute_result"
    }
   ],
   "source": [
    "df.shape"
   ]
  },
  {
   "cell_type": "code",
   "execution_count": 6,
   "id": "vanilla-assembly",
   "metadata": {
    "execution": {
     "iopub.execute_input": "2021-06-12T10:37:26.025299Z",
     "iopub.status.busy": "2021-06-12T10:37:26.025152Z",
     "iopub.status.idle": "2021-06-12T10:37:26.038297Z",
     "shell.execute_reply": "2021-06-12T10:37:26.037799Z",
     "shell.execute_reply.started": "2021-06-12T10:37:26.025285Z"
    }
   },
   "outputs": [],
   "source": [
    "df = df[df[\"Dataset_type\"]=='TRAIN']"
   ]
  },
  {
   "cell_type": "code",
   "execution_count": 7,
   "id": "blessed-steering",
   "metadata": {
    "execution": {
     "iopub.execute_input": "2021-06-12T10:37:26.039543Z",
     "iopub.status.busy": "2021-06-12T10:37:26.039397Z",
     "iopub.status.idle": "2021-06-12T10:37:26.062216Z",
     "shell.execute_reply": "2021-06-12T10:37:26.061769Z",
     "shell.execute_reply.started": "2021-06-12T10:37:26.039529Z"
    }
   },
   "outputs": [],
   "source": [
    "df.to_csv(\"/media/hdd/Datasets/Coronahack-Chest-XRay-Dataset/Coronahack-Chest-XRay-Dataset/train.csv\")"
   ]
  },
  {
   "cell_type": "code",
   "execution_count": 8,
   "id": "constant-genius",
   "metadata": {
    "execution": {
     "iopub.execute_input": "2021-06-12T10:37:26.062956Z",
     "iopub.status.busy": "2021-06-12T10:37:26.062844Z",
     "iopub.status.idle": "2021-06-12T10:37:26.076964Z",
     "shell.execute_reply": "2021-06-12T10:37:26.076562Z",
     "shell.execute_reply.started": "2021-06-12T10:37:26.062942Z"
    }
   },
   "outputs": [
    {
     "data": {
      "text/plain": [
       "2"
      ]
     },
     "execution_count": 8,
     "metadata": {},
     "output_type": "execute_result"
    }
   ],
   "source": [
    "len(df.Label.unique())"
   ]
  },
  {
   "cell_type": "code",
   "execution_count": 9,
   "id": "hearing-interaction",
   "metadata": {
    "execution": {
     "iopub.execute_input": "2021-06-12T10:37:26.077695Z",
     "iopub.status.busy": "2021-06-12T10:37:26.077573Z",
     "iopub.status.idle": "2021-06-12T10:37:26.090721Z",
     "shell.execute_reply": "2021-06-12T10:37:26.090202Z",
     "shell.execute_reply.started": "2021-06-12T10:37:26.077679Z"
    }
   },
   "outputs": [],
   "source": [
    "tfms = [make_rgb, ResizeFixed(128), to_byte_tensor, to_float_tensor]\n",
    "bs = 256"
   ]
  },
  {
   "cell_type": "code",
   "execution_count": 10,
   "id": "ruled-handbook",
   "metadata": {
    "execution": {
     "iopub.execute_input": "2021-06-12T10:37:26.091540Z",
     "iopub.status.busy": "2021-06-12T10:37:26.091415Z",
     "iopub.status.idle": "2021-06-12T10:37:26.105194Z",
     "shell.execute_reply": "2021-06-12T10:37:26.104879Z",
     "shell.execute_reply.started": "2021-06-12T10:37:26.091524Z"
    }
   },
   "outputs": [],
   "source": [
    "lr = 1e-2\n",
    "pct_start = 0.5\n",
    "phases = create_phases(pct_start)\n",
    "sched_lr  = combine_scheds(phases, cos_1cycle_anneal(lr/10., lr, lr/1e5))\n",
    "sched_mom = combine_scheds(phases, cos_1cycle_anneal(0.95, 0.85, 0.95))\n",
    "\n",
    "cbfs = [\n",
    "    partial(AvgStatsCallback,accuracy),\n",
    "    partial(ParamScheduler, 'lr', sched_lr),\n",
    "    partial(ParamScheduler, 'mom', sched_mom),\n",
    "        partial(BatchTransformXCallback, norm_imagenette),\n",
    "    ProgressCallback,\n",
    "    Recorder,\n",
    "       partial(CudaCallback, device)]\n",
    "\n",
    "loss_func=LabelSmoothingCrossEntropy()\n",
    "lr = .001\n",
    "opt_func = adam_opt(mom=0.9, mom_sqr=0.99, eps=1e-6, wd=1e-2)"
   ]
  },
  {
   "cell_type": "code",
   "execution_count": 11,
   "id": "stretch-equality",
   "metadata": {
    "execution": {
     "iopub.execute_input": "2021-06-12T10:37:26.105806Z",
     "iopub.status.busy": "2021-06-12T10:37:26.105698Z",
     "iopub.status.idle": "2021-06-12T10:37:26.155472Z",
     "shell.execute_reply": "2021-06-12T10:37:26.154931Z",
     "shell.execute_reply.started": "2021-06-12T10:37:26.105792Z"
    }
   },
   "outputs": [],
   "source": [
    "tl = TableLoader(\"/media/hdd/Datasets/Coronahack-Chest-XRay-Dataset/Coronahack-Chest-XRay-Dataset/train.csv\", \"X_ray_image_name\", \"Label\", add_before=\"/media/hdd/Datasets/Coronahack-Chest-XRay-Dataset/Coronahack-Chest-XRay-Dataset/train/\")"
   ]
  },
  {
   "cell_type": "code",
   "execution_count": 12,
   "id": "exotic-quick",
   "metadata": {
    "execution": {
     "iopub.execute_input": "2021-06-12T10:37:26.156245Z",
     "iopub.status.busy": "2021-06-12T10:37:26.156136Z",
     "iopub.status.idle": "2021-06-12T10:37:26.168067Z",
     "shell.execute_reply": "2021-06-12T10:37:26.167566Z",
     "shell.execute_reply.started": "2021-06-12T10:37:26.156231Z"
    }
   },
   "outputs": [],
   "source": [
    "il = ImageList(tl, tfms = tfms)"
   ]
  },
  {
   "cell_type": "code",
   "execution_count": 13,
   "id": "dynamic-converter",
   "metadata": {
    "execution": {
     "iopub.execute_input": "2021-06-12T10:37:26.168888Z",
     "iopub.status.busy": "2021-06-12T10:37:26.168701Z",
     "iopub.status.idle": "2021-06-12T10:37:26.184773Z",
     "shell.execute_reply": "2021-06-12T10:37:26.184084Z",
     "shell.execute_reply.started": "2021-06-12T10:37:26.168858Z"
    }
   },
   "outputs": [],
   "source": [
    "sd = SplitData.split_by_func(il, partial(random_splitter,p_valid = .2))"
   ]
  },
  {
   "cell_type": "code",
   "execution_count": 14,
   "id": "dated-tennis",
   "metadata": {
    "execution": {
     "iopub.execute_input": "2021-06-12T10:37:26.185536Z",
     "iopub.status.busy": "2021-06-12T10:37:26.185415Z",
     "iopub.status.idle": "2021-06-12T10:37:26.203985Z",
     "shell.execute_reply": "2021-06-12T10:37:26.203462Z",
     "shell.execute_reply.started": "2021-06-12T10:37:26.185521Z"
    }
   },
   "outputs": [],
   "source": [
    "ll = label_by_func(sd, partial(table_labeler, dic = tl), proc_y=CategoryProcessor())"
   ]
  },
  {
   "cell_type": "code",
   "execution_count": 15,
   "id": "intensive-huntington",
   "metadata": {
    "execution": {
     "iopub.execute_input": "2021-06-12T10:37:26.204994Z",
     "iopub.status.busy": "2021-06-12T10:37:26.204730Z",
     "iopub.status.idle": "2021-06-12T10:37:26.218428Z",
     "shell.execute_reply": "2021-06-12T10:37:26.217936Z",
     "shell.execute_reply.started": "2021-06-12T10:37:26.204972Z"
    }
   },
   "outputs": [],
   "source": [
    "data = ll.to_databunch(bs, c_in=3, c_out=2)"
   ]
  },
  {
   "cell_type": "code",
   "execution_count": 16,
   "id": "departmental-example",
   "metadata": {
    "execution": {
     "iopub.execute_input": "2021-06-12T10:37:26.320678Z",
     "iopub.status.busy": "2021-06-12T10:37:26.320408Z",
     "iopub.status.idle": "2021-06-12T10:37:26.533140Z",
     "shell.execute_reply": "2021-06-12T10:37:26.532646Z",
     "shell.execute_reply.started": "2021-06-12T10:37:26.320650Z"
    }
   },
   "outputs": [
    {
     "data": {
      "image/png": "[encoded data removed]",
      "text/plain": [
       "<Figure size 864x216 with 4 Axes>"
      ]
     },
     "metadata": {
      "needs_background": "light"
     },
     "output_type": "display_data"
    }
   ],
   "source": [
    "show_batch(data)"
   ]
  },
  {
   "cell_type": "markdown",
   "id": "streaming-combination",
   "metadata": {},
   "source": [
    "# Xresnet34 + pruning"
   ]
  },
  {
   "cell_type": "code",
   "execution_count": 17,
   "id": "amended-fitness",
   "metadata": {
    "execution": {
     "iopub.execute_input": "2021-06-12T10:34:37.190999Z",
     "iopub.status.busy": "2021-06-12T10:34:37.190836Z",
     "iopub.status.idle": "2021-06-12T10:34:37.458361Z",
     "shell.execute_reply": "2021-06-12T10:34:37.458040Z",
     "shell.execute_reply.started": "2021-06-12T10:34:37.190980Z"
    }
   },
   "outputs": [],
   "source": [
    "arch = partial(xresnet34, c_out =2)()"
   ]
  },
  {
   "cell_type": "code",
   "execution_count": 18,
   "id": "asian-bloom",
   "metadata": {
    "execution": {
     "iopub.execute_input": "2021-06-12T10:34:37.459259Z",
     "iopub.status.busy": "2021-06-12T10:34:37.459117Z",
     "iopub.status.idle": "2021-06-12T10:34:37.476569Z",
     "shell.execute_reply": "2021-06-12T10:34:37.476197Z",
     "shell.execute_reply.started": "2021-06-12T10:34:37.459241Z"
    }
   },
   "outputs": [],
   "source": [
    "learn = Learner(arch, data, loss_func, lr=lr, cb_funcs=cbfs+[PruningCallback], opt_func=opt_func)"
   ]
  },
  {
   "cell_type": "code",
   "execution_count": 19,
   "id": "geographic-membership",
   "metadata": {
    "execution": {
     "iopub.execute_input": "2021-06-12T10:34:37.477629Z",
     "iopub.status.busy": "2021-06-12T10:34:37.477369Z",
     "iopub.status.idle": "2021-06-12T10:34:57.346325Z",
     "shell.execute_reply": "2021-06-12T10:34:57.345840Z",
     "shell.execute_reply.started": "2021-06-12T10:34:37.477596Z"
    }
   },
   "outputs": [
    {
     "data": {
      "text/html": [
       "\n",
       "    <div>\n",
       "        <style>\n",
       "            /* Turns off some styling */\n",
       "            progress {\n",
       "                /* gets rid of default border in Firefox and Opera. */\n",
       "                border: none;\n",
       "                /* Needs to be in here for Safari polyfill so background images work as expected. */\n",
       "                background-size: auto;\n",
       "            }\n",
       "            .progress-bar-interrupted, .progress-bar-interrupted::-webkit-progress-bar {\n",
       "                background: #F44336;\n",
       "            }\n",
       "        </style>\n",
       "      <progress value='0' class='' max='1' style='width:300px; height:20px; vertical-align: middle;'></progress>\n",
       "      \n",
       "    </div>\n",
       "    \n"
      ],
      "text/plain": [
       "<IPython.core.display.HTML object>"
      ]
     },
     "metadata": {},
     "output_type": "display_data"
    },
    {
     "data": {
      "text/html": [
       "<table border=\"1\" class=\"dataframe\">\n",
       "  <thead>\n",
       "    <tr style=\"text-align: left;\">\n",
       "      <th>epoch</th>\n",
       "      <th>train_loss</th>\n",
       "      <th>train_accuracy</th>\n",
       "      <th>valid_loss</th>\n",
       "      <th>valid_accuracy</th>\n",
       "      <th>time</th>\n",
       "    </tr>\n",
       "  </thead>\n",
       "  <tbody>\n",
       "    <tr>\n",
       "      <td>0</td>\n",
       "      <td>0.420835</td>\n",
       "      <td>0.855425</td>\n",
       "      <td>0.895043</td>\n",
       "      <td>0.754302</td>\n",
       "      <td>00:19</td>\n",
       "    </tr>\n",
       "  </tbody>\n",
       "</table>"
      ],
      "text/plain": [
       "<IPython.core.display.HTML object>"
      ]
     },
     "metadata": {},
     "output_type": "display_data"
    },
    {
     "name": "stdout",
     "output_type": "stream",
     "text": [
      "Pruning: 38\n"
     ]
    }
   ],
   "source": [
    "learn.fit(1)"
   ]
  },
  {
   "cell_type": "code",
   "execution_count": 20,
   "id": "permanent-treasurer",
   "metadata": {
    "execution": {
     "iopub.execute_input": "2021-06-12T10:34:57.366366Z",
     "iopub.status.busy": "2021-06-12T10:34:57.366195Z",
     "iopub.status.idle": "2021-06-12T10:35:39.006637Z",
     "shell.execute_reply": "2021-06-12T10:35:39.006094Z",
     "shell.execute_reply.started": "2021-06-12T10:34:57.366347Z"
    }
   },
   "outputs": [
    {
     "data": {
      "text/html": [
       "\n",
       "    <div>\n",
       "        <style>\n",
       "            /* Turns off some styling */\n",
       "            progress {\n",
       "                /* gets rid of default border in Firefox and Opera. */\n",
       "                border: none;\n",
       "                /* Needs to be in here for Safari polyfill so background images work as expected. */\n",
       "                background-size: auto;\n",
       "            }\n",
       "            .progress-bar-interrupted, .progress-bar-interrupted::-webkit-progress-bar {\n",
       "                background: #F44336;\n",
       "            }\n",
       "        </style>\n",
       "      <progress value='0' class='' max='2' style='width:300px; height:20px; vertical-align: middle;'></progress>\n",
       "      \n",
       "    </div>\n",
       "    \n"
      ],
      "text/plain": [
       "<IPython.core.display.HTML object>"
      ]
     },
     "metadata": {},
     "output_type": "display_data"
    },
    {
     "data": {
      "text/html": [
       "<table border=\"1\" class=\"dataframe\">\n",
       "  <thead>\n",
       "    <tr style=\"text-align: left;\">\n",
       "      <th>epoch</th>\n",
       "      <th>train_loss</th>\n",
       "      <th>train_accuracy</th>\n",
       "      <th>valid_loss</th>\n",
       "      <th>valid_accuracy</th>\n",
       "      <th>time</th>\n",
       "    </tr>\n",
       "  </thead>\n",
       "  <tbody>\n",
       "    <tr>\n",
       "      <td>0</td>\n",
       "      <td>0.308520</td>\n",
       "      <td>0.938443</td>\n",
       "      <td>0.642348</td>\n",
       "      <td>0.750478</td>\n",
       "      <td>00:20</td>\n",
       "    </tr>\n",
       "    <tr>\n",
       "      <td>1</td>\n",
       "      <td>0.284349</td>\n",
       "      <td>0.955660</td>\n",
       "      <td>0.271855</td>\n",
       "      <td>0.965583</td>\n",
       "      <td>00:21</td>\n",
       "    </tr>\n",
       "  </tbody>\n",
       "</table>"
      ],
      "text/plain": [
       "<IPython.core.display.HTML object>"
      ]
     },
     "metadata": {},
     "output_type": "display_data"
    },
    {
     "name": "stdout",
     "output_type": "stream",
     "text": [
      "Pruning: 38\n",
      "Pruning: 38\n"
     ]
    }
   ],
   "source": [
    "learn.fit(2)"
   ]
  },
  {
   "cell_type": "code",
   "execution_count": 21,
   "id": "starting-tumor",
   "metadata": {
    "execution": {
     "iopub.execute_input": "2021-06-12T10:35:54.450378Z",
     "iopub.status.busy": "2021-06-12T10:35:54.449909Z",
     "iopub.status.idle": "2021-06-12T10:36:36.921812Z",
     "shell.execute_reply": "2021-06-12T10:36:36.921373Z",
     "shell.execute_reply.started": "2021-06-12T10:35:54.450323Z"
    }
   },
   "outputs": [
    {
     "data": {
      "text/html": [
       "\n",
       "    <div>\n",
       "        <style>\n",
       "            /* Turns off some styling */\n",
       "            progress {\n",
       "                /* gets rid of default border in Firefox and Opera. */\n",
       "                border: none;\n",
       "                /* Needs to be in here for Safari polyfill so background images work as expected. */\n",
       "                background-size: auto;\n",
       "            }\n",
       "            .progress-bar-interrupted, .progress-bar-interrupted::-webkit-progress-bar {\n",
       "                background: #F44336;\n",
       "            }\n",
       "        </style>\n",
       "      <progress value='0' class='' max='2' style='width:300px; height:20px; vertical-align: middle;'></progress>\n",
       "      \n",
       "    </div>\n",
       "    \n"
      ],
      "text/plain": [
       "<IPython.core.display.HTML object>"
      ]
     },
     "metadata": {},
     "output_type": "display_data"
    },
    {
     "data": {
      "text/html": [
       "<table border=\"1\" class=\"dataframe\">\n",
       "  <thead>\n",
       "    <tr style=\"text-align: left;\">\n",
       "      <th>epoch</th>\n",
       "      <th>train_loss</th>\n",
       "      <th>train_accuracy</th>\n",
       "      <th>valid_loss</th>\n",
       "      <th>valid_accuracy</th>\n",
       "      <th>time</th>\n",
       "    </tr>\n",
       "  </thead>\n",
       "  <tbody>\n",
       "    <tr>\n",
       "      <td>0</td>\n",
       "      <td>0.266132</td>\n",
       "      <td>0.967689</td>\n",
       "      <td>0.336473</td>\n",
       "      <td>0.923518</td>\n",
       "      <td>00:21</td>\n",
       "    </tr>\n",
       "    <tr>\n",
       "      <td>1</td>\n",
       "      <td>0.273807</td>\n",
       "      <td>0.963915</td>\n",
       "      <td>0.282272</td>\n",
       "      <td>0.956023</td>\n",
       "      <td>00:21</td>\n",
       "    </tr>\n",
       "  </tbody>\n",
       "</table>"
      ],
      "text/plain": [
       "<IPython.core.display.HTML object>"
      ]
     },
     "metadata": {},
     "output_type": "display_data"
    },
    {
     "name": "stdout",
     "output_type": "stream",
     "text": [
      "Pruning: 38\n",
      "Pruning: 38\n"
     ]
    }
   ],
   "source": [
    "learn.fit(2)"
   ]
  },
  {
   "cell_type": "markdown",
   "id": "cloudy-celebrity",
   "metadata": {},
   "source": [
    "# Xresnet34"
   ]
  },
  {
   "cell_type": "code",
   "execution_count": 97,
   "id": "ranging-johns",
   "metadata": {
    "execution": {
     "iopub.execute_input": "2021-06-12T10:23:04.824794Z",
     "iopub.status.busy": "2021-06-12T10:23:04.824655Z",
     "iopub.status.idle": "2021-06-12T10:23:05.091613Z",
     "shell.execute_reply": "2021-06-12T10:23:05.091151Z",
     "shell.execute_reply.started": "2021-06-12T10:23:04.824780Z"
    }
   },
   "outputs": [],
   "source": [
    "arch = partial(xresnet34, c_out =2)()"
   ]
  },
  {
   "cell_type": "code",
   "execution_count": 98,
   "id": "legendary-provider",
   "metadata": {
    "execution": {
     "iopub.execute_input": "2021-06-12T10:23:05.092280Z",
     "iopub.status.busy": "2021-06-12T10:23:05.092178Z",
     "iopub.status.idle": "2021-06-12T10:23:05.107200Z",
     "shell.execute_reply": "2021-06-12T10:23:05.106843Z",
     "shell.execute_reply.started": "2021-06-12T10:23:05.092266Z"
    }
   },
   "outputs": [],
   "source": [
    "learn = Learner(arch, data, loss_func, lr=lr, cb_funcs=cbfs, opt_func=opt_func)"
   ]
  },
  {
   "cell_type": "code",
   "execution_count": 99,
   "id": "muslim-butterfly",
   "metadata": {
    "execution": {
     "iopub.execute_input": "2021-06-12T10:23:05.287944Z",
     "iopub.status.busy": "2021-06-12T10:23:05.287704Z",
     "iopub.status.idle": "2021-06-12T10:23:26.373110Z",
     "shell.execute_reply": "2021-06-12T10:23:26.372576Z",
     "shell.execute_reply.started": "2021-06-12T10:23:05.287916Z"
    }
   },
   "outputs": [
    {
     "data": {
      "text/html": [
       "\n",
       "    <div>\n",
       "        <style>\n",
       "            /* Turns off some styling */\n",
       "            progress {\n",
       "                /* gets rid of default border in Firefox and Opera. */\n",
       "                border: none;\n",
       "                /* Needs to be in here for Safari polyfill so background images work as expected. */\n",
       "                background-size: auto;\n",
       "            }\n",
       "            .progress-bar-interrupted, .progress-bar-interrupted::-webkit-progress-bar {\n",
       "                background: #F44336;\n",
       "            }\n",
       "        </style>\n",
       "      <progress value='0' class='' max='1' style='width:300px; height:20px; vertical-align: middle;'></progress>\n",
       "      \n",
       "    </div>\n",
       "    \n"
      ],
      "text/plain": [
       "<IPython.core.display.HTML object>"
      ]
     },
     "metadata": {},
     "output_type": "display_data"
    },
    {
     "data": {
      "text/html": [
       "<table border=\"1\" class=\"dataframe\">\n",
       "  <thead>\n",
       "    <tr style=\"text-align: left;\">\n",
       "      <th>epoch</th>\n",
       "      <th>train_loss</th>\n",
       "      <th>train_accuracy</th>\n",
       "      <th>valid_loss</th>\n",
       "      <th>valid_accuracy</th>\n",
       "      <th>time</th>\n",
       "    </tr>\n",
       "  </thead>\n",
       "  <tbody>\n",
       "    <tr>\n",
       "      <td>0</td>\n",
       "      <td>0.419297</td>\n",
       "      <td>0.868346</td>\n",
       "      <td>0.465628</td>\n",
       "      <td>0.802412</td>\n",
       "      <td>00:21</td>\n",
       "    </tr>\n",
       "  </tbody>\n",
       "</table>"
      ],
      "text/plain": [
       "<IPython.core.display.HTML object>"
      ]
     },
     "metadata": {},
     "output_type": "display_data"
    }
   ],
   "source": [
    "learn.fit(1)"
   ]
  },
  {
   "cell_type": "code",
   "execution_count": 100,
   "id": "accepting-medline",
   "metadata": {
    "execution": {
     "iopub.execute_input": "2021-06-12T10:23:31.414312Z",
     "iopub.status.busy": "2021-06-12T10:23:31.413978Z",
     "iopub.status.idle": "2021-06-12T10:24:13.467972Z",
     "shell.execute_reply": "2021-06-12T10:24:13.467568Z",
     "shell.execute_reply.started": "2021-06-12T10:23:31.414279Z"
    }
   },
   "outputs": [
    {
     "data": {
      "text/html": [
       "\n",
       "    <div>\n",
       "        <style>\n",
       "            /* Turns off some styling */\n",
       "            progress {\n",
       "                /* gets rid of default border in Firefox and Opera. */\n",
       "                border: none;\n",
       "                /* Needs to be in here for Safari polyfill so background images work as expected. */\n",
       "                background-size: auto;\n",
       "            }\n",
       "            .progress-bar-interrupted, .progress-bar-interrupted::-webkit-progress-bar {\n",
       "                background: #F44336;\n",
       "            }\n",
       "        </style>\n",
       "      <progress value='0' class='' max='2' style='width:300px; height:20px; vertical-align: middle;'></progress>\n",
       "      \n",
       "    </div>\n",
       "    \n"
      ],
      "text/plain": [
       "<IPython.core.display.HTML object>"
      ]
     },
     "metadata": {},
     "output_type": "display_data"
    },
    {
     "data": {
      "text/html": [
       "<table border=\"1\" class=\"dataframe\">\n",
       "  <thead>\n",
       "    <tr style=\"text-align: left;\">\n",
       "      <th>epoch</th>\n",
       "      <th>train_loss</th>\n",
       "      <th>train_accuracy</th>\n",
       "      <th>valid_loss</th>\n",
       "      <th>valid_accuracy</th>\n",
       "      <th>time</th>\n",
       "    </tr>\n",
       "  </thead>\n",
       "  <tbody>\n",
       "    <tr>\n",
       "      <td>0</td>\n",
       "      <td>0.305885</td>\n",
       "      <td>0.940114</td>\n",
       "      <td>0.781749</td>\n",
       "      <td>0.793135</td>\n",
       "      <td>00:20</td>\n",
       "    </tr>\n",
       "    <tr>\n",
       "      <td>1</td>\n",
       "      <td>0.293040</td>\n",
       "      <td>0.949382</td>\n",
       "      <td>0.284143</td>\n",
       "      <td>0.954545</td>\n",
       "      <td>00:21</td>\n",
       "    </tr>\n",
       "  </tbody>\n",
       "</table>"
      ],
      "text/plain": [
       "<IPython.core.display.HTML object>"
      ]
     },
     "metadata": {},
     "output_type": "display_data"
    }
   ],
   "source": [
    "learn.fit(2)"
   ]
  },
  {
   "cell_type": "code",
   "execution_count": 101,
   "id": "skilled-inspiration",
   "metadata": {
    "execution": {
     "iopub.execute_input": "2021-06-12T10:25:25.602416Z",
     "iopub.status.busy": "2021-06-12T10:25:25.602221Z",
     "iopub.status.idle": "2021-06-12T10:26:07.717907Z",
     "shell.execute_reply": "2021-06-12T10:26:07.717480Z",
     "shell.execute_reply.started": "2021-06-12T10:25:25.602394Z"
    }
   },
   "outputs": [
    {
     "data": {
      "text/html": [
       "\n",
       "    <div>\n",
       "        <style>\n",
       "            /* Turns off some styling */\n",
       "            progress {\n",
       "                /* gets rid of default border in Firefox and Opera. */\n",
       "                border: none;\n",
       "                /* Needs to be in here for Safari polyfill so background images work as expected. */\n",
       "                background-size: auto;\n",
       "            }\n",
       "            .progress-bar-interrupted, .progress-bar-interrupted::-webkit-progress-bar {\n",
       "                background: #F44336;\n",
       "            }\n",
       "        </style>\n",
       "      <progress value='0' class='' max='2' style='width:300px; height:20px; vertical-align: middle;'></progress>\n",
       "      \n",
       "    </div>\n",
       "    \n"
      ],
      "text/plain": [
       "<IPython.core.display.HTML object>"
      ]
     },
     "metadata": {},
     "output_type": "display_data"
    },
    {
     "data": {
      "text/html": [
       "<table border=\"1\" class=\"dataframe\">\n",
       "  <thead>\n",
       "    <tr style=\"text-align: left;\">\n",
       "      <th>epoch</th>\n",
       "      <th>train_loss</th>\n",
       "      <th>train_accuracy</th>\n",
       "      <th>valid_loss</th>\n",
       "      <th>valid_accuracy</th>\n",
       "      <th>time</th>\n",
       "    </tr>\n",
       "  </thead>\n",
       "  <tbody>\n",
       "    <tr>\n",
       "      <td>0</td>\n",
       "      <td>0.273146</td>\n",
       "      <td>0.963165</td>\n",
       "      <td>0.302002</td>\n",
       "      <td>0.931354</td>\n",
       "      <td>00:20</td>\n",
       "    </tr>\n",
       "    <tr>\n",
       "      <td>1</td>\n",
       "      <td>0.272076</td>\n",
       "      <td>0.963641</td>\n",
       "      <td>0.340235</td>\n",
       "      <td>0.925789</td>\n",
       "      <td>00:21</td>\n",
       "    </tr>\n",
       "  </tbody>\n",
       "</table>"
      ],
      "text/plain": [
       "<IPython.core.display.HTML object>"
      ]
     },
     "metadata": {},
     "output_type": "display_data"
    }
   ],
   "source": [
    "learn.fit(2)"
   ]
  },
  {
   "cell_type": "code",
   "execution_count": null,
   "id": "korean-morrison",
   "metadata": {},
   "outputs": [],
   "source": []
  },
  {
   "cell_type": "markdown",
   "id": "operational-allocation",
   "metadata": {},
   "source": [
    "# Effnet"
   ]
  },
  {
   "cell_type": "code",
   "execution_count": 15,
   "id": "hispanic-position",
   "metadata": {
    "execution": {
     "iopub.execute_input": "2021-06-12T10:29:06.983512Z",
     "iopub.status.busy": "2021-06-12T10:29:06.982832Z",
     "iopub.status.idle": "2021-06-12T10:29:06.999616Z",
     "shell.execute_reply": "2021-06-12T10:29:06.999205Z",
     "shell.execute_reply.started": "2021-06-12T10:29:06.983415Z"
    }
   },
   "outputs": [],
   "source": [
    "from sprintdl.models.efficientnet import *"
   ]
  },
  {
   "cell_type": "code",
   "execution_count": 16,
   "id": "verified-latex",
   "metadata": {
    "execution": {
     "iopub.execute_input": "2021-06-12T10:29:07.307243Z",
     "iopub.status.busy": "2021-06-12T10:29:07.307065Z",
     "iopub.status.idle": "2021-06-12T10:29:07.397999Z",
     "shell.execute_reply": "2021-06-12T10:29:07.397537Z",
     "shell.execute_reply.started": "2021-06-12T10:29:07.307228Z"
    }
   },
   "outputs": [],
   "source": [
    "arch = efficientnet(2, pretrained=False)"
   ]
  },
  {
   "cell_type": "code",
   "execution_count": 17,
   "id": "ideal-hampton",
   "metadata": {
    "execution": {
     "iopub.execute_input": "2021-06-12T10:29:07.595365Z",
     "iopub.status.busy": "2021-06-12T10:29:07.594840Z",
     "iopub.status.idle": "2021-06-12T10:29:07.614816Z",
     "shell.execute_reply": "2021-06-12T10:29:07.614305Z",
     "shell.execute_reply.started": "2021-06-12T10:29:07.595303Z"
    }
   },
   "outputs": [],
   "source": [
    "clear_memory()"
   ]
  },
  {
   "cell_type": "code",
   "execution_count": 18,
   "id": "packed-ministry",
   "metadata": {
    "execution": {
     "iopub.execute_input": "2021-06-12T10:29:07.904855Z",
     "iopub.status.busy": "2021-06-12T10:29:07.904321Z",
     "iopub.status.idle": "2021-06-12T10:29:07.940260Z",
     "shell.execute_reply": "2021-06-12T10:29:07.939505Z",
     "shell.execute_reply.started": "2021-06-12T10:29:07.904792Z"
    }
   },
   "outputs": [],
   "source": [
    "# learn.destroy()"
   ]
  },
  {
   "cell_type": "code",
   "execution_count": 19,
   "id": "trying-plymouth",
   "metadata": {
    "execution": {
     "iopub.execute_input": "2021-06-12T10:29:08.241409Z",
     "iopub.status.busy": "2021-06-12T10:29:08.241114Z",
     "iopub.status.idle": "2021-06-12T10:29:08.257130Z",
     "shell.execute_reply": "2021-06-12T10:29:08.256690Z",
     "shell.execute_reply.started": "2021-06-12T10:29:08.241377Z"
    }
   },
   "outputs": [],
   "source": [
    "data = ll.to_databunch(64, c_in=3, c_out=2)"
   ]
  },
  {
   "cell_type": "code",
   "execution_count": 20,
   "id": "resistant-greenhouse",
   "metadata": {
    "execution": {
     "iopub.execute_input": "2021-06-12T10:29:08.968624Z",
     "iopub.status.busy": "2021-06-12T10:29:08.968093Z",
     "iopub.status.idle": "2021-06-12T10:29:08.987123Z",
     "shell.execute_reply": "2021-06-12T10:29:08.986786Z",
     "shell.execute_reply.started": "2021-06-12T10:29:08.968563Z"
    }
   },
   "outputs": [],
   "source": [
    "learn = Learner(arch, data, loss_func, lr=lr, cb_funcs=cbfs+[PruningCallback], opt_func=opt_func)"
   ]
  },
  {
   "cell_type": "code",
   "execution_count": 21,
   "id": "attended-variation",
   "metadata": {
    "execution": {
     "iopub.execute_input": "2021-06-12T10:29:09.293324Z",
     "iopub.status.busy": "2021-06-12T10:29:09.293183Z",
     "iopub.status.idle": "2021-06-12T10:29:33.041238Z",
     "shell.execute_reply": "2021-06-12T10:29:33.040758Z",
     "shell.execute_reply.started": "2021-06-12T10:29:09.293310Z"
    }
   },
   "outputs": [
    {
     "data": {
      "text/html": [
       "\n",
       "    <div>\n",
       "        <style>\n",
       "            /* Turns off some styling */\n",
       "            progress {\n",
       "                /* gets rid of default border in Firefox and Opera. */\n",
       "                border: none;\n",
       "                /* Needs to be in here for Safari polyfill so background images work as expected. */\n",
       "                background-size: auto;\n",
       "            }\n",
       "            .progress-bar-interrupted, .progress-bar-interrupted::-webkit-progress-bar {\n",
       "                background: #F44336;\n",
       "            }\n",
       "        </style>\n",
       "      <progress value='0' class='' max='1' style='width:300px; height:20px; vertical-align: middle;'></progress>\n",
       "      \n",
       "    </div>\n",
       "    \n"
      ],
      "text/plain": [
       "<IPython.core.display.HTML object>"
      ]
     },
     "metadata": {},
     "output_type": "display_data"
    },
    {
     "data": {
      "text/html": [
       "<table border=\"1\" class=\"dataframe\">\n",
       "  <thead>\n",
       "    <tr style=\"text-align: left;\">\n",
       "      <th>epoch</th>\n",
       "      <th>train_loss</th>\n",
       "      <th>train_accuracy</th>\n",
       "      <th>valid_loss</th>\n",
       "      <th>valid_accuracy</th>\n",
       "      <th>time</th>\n",
       "    </tr>\n",
       "  </thead>\n",
       "  <tbody>\n",
       "    <tr>\n",
       "      <td>0</td>\n",
       "      <td>0.509987</td>\n",
       "      <td>0.838022</td>\n",
       "      <td>0.689972</td>\n",
       "      <td>0.729412</td>\n",
       "      <td>00:23</td>\n",
       "    </tr>\n",
       "  </tbody>\n",
       "</table>"
      ],
      "text/plain": [
       "<IPython.core.display.HTML object>"
      ]
     },
     "metadata": {},
     "output_type": "display_data"
    }
   ],
   "source": [
    "learn.fit(1)"
   ]
  },
  {
   "cell_type": "code",
   "execution_count": 22,
   "id": "offshore-giving",
   "metadata": {
    "execution": {
     "iopub.execute_input": "2021-06-12T10:29:53.922553Z",
     "iopub.status.busy": "2021-06-12T10:29:53.922390Z",
     "iopub.status.idle": "2021-06-12T10:31:29.150505Z",
     "shell.execute_reply": "2021-06-12T10:31:29.149999Z",
     "shell.execute_reply.started": "2021-06-12T10:29:53.922516Z"
    }
   },
   "outputs": [
    {
     "data": {
      "text/html": [
       "\n",
       "    <div>\n",
       "        <style>\n",
       "            /* Turns off some styling */\n",
       "            progress {\n",
       "                /* gets rid of default border in Firefox and Opera. */\n",
       "                border: none;\n",
       "                /* Needs to be in here for Safari polyfill so background images work as expected. */\n",
       "                background-size: auto;\n",
       "            }\n",
       "            .progress-bar-interrupted, .progress-bar-interrupted::-webkit-progress-bar {\n",
       "                background: #F44336;\n",
       "            }\n",
       "        </style>\n",
       "      <progress value='0' class='' max='4' style='width:300px; height:20px; vertical-align: middle;'></progress>\n",
       "      \n",
       "    </div>\n",
       "    \n"
      ],
      "text/plain": [
       "<IPython.core.display.HTML object>"
      ]
     },
     "metadata": {},
     "output_type": "display_data"
    },
    {
     "data": {
      "text/html": [
       "<table border=\"1\" class=\"dataframe\">\n",
       "  <thead>\n",
       "    <tr style=\"text-align: left;\">\n",
       "      <th>epoch</th>\n",
       "      <th>train_loss</th>\n",
       "      <th>train_accuracy</th>\n",
       "      <th>valid_loss</th>\n",
       "      <th>valid_accuracy</th>\n",
       "      <th>time</th>\n",
       "    </tr>\n",
       "  </thead>\n",
       "  <tbody>\n",
       "    <tr>\n",
       "      <td>0</td>\n",
       "      <td>0.346213</td>\n",
       "      <td>0.920534</td>\n",
       "      <td>0.777552</td>\n",
       "      <td>0.729412</td>\n",
       "      <td>00:23</td>\n",
       "    </tr>\n",
       "    <tr>\n",
       "      <td>1</td>\n",
       "      <td>0.382069</td>\n",
       "      <td>0.912330</td>\n",
       "      <td>2058325.207843</td>\n",
       "      <td>0.729412</td>\n",
       "      <td>00:23</td>\n",
       "    </tr>\n",
       "    <tr>\n",
       "      <td>2</td>\n",
       "      <td>0.368579</td>\n",
       "      <td>0.906704</td>\n",
       "      <td>8114.189706</td>\n",
       "      <td>0.729412</td>\n",
       "      <td>00:24</td>\n",
       "    </tr>\n",
       "    <tr>\n",
       "      <td>3</td>\n",
       "      <td>0.276484</td>\n",
       "      <td>0.958978</td>\n",
       "      <td>39.437776</td>\n",
       "      <td>0.729412</td>\n",
       "      <td>00:23</td>\n",
       "    </tr>\n",
       "  </tbody>\n",
       "</table>"
      ],
      "text/plain": [
       "<IPython.core.display.HTML object>"
      ]
     },
     "metadata": {},
     "output_type": "display_data"
    }
   ],
   "source": [
    "learn.fit(4)"
   ]
  },
  {
   "cell_type": "code",
   "execution_count": 23,
   "id": "infinite-delhi",
   "metadata": {
    "execution": {
     "iopub.execute_input": "2021-06-12T10:31:38.850503Z",
     "iopub.status.busy": "2021-06-12T10:31:38.850137Z",
     "iopub.status.idle": "2021-06-12T10:32:26.312725Z",
     "shell.execute_reply": "2021-06-12T10:32:26.312134Z",
     "shell.execute_reply.started": "2021-06-12T10:31:38.850458Z"
    }
   },
   "outputs": [
    {
     "data": {
      "text/html": [
       "\n",
       "    <div>\n",
       "        <style>\n",
       "            /* Turns off some styling */\n",
       "            progress {\n",
       "                /* gets rid of default border in Firefox and Opera. */\n",
       "                border: none;\n",
       "                /* Needs to be in here for Safari polyfill so background images work as expected. */\n",
       "                background-size: auto;\n",
       "            }\n",
       "            .progress-bar-interrupted, .progress-bar-interrupted::-webkit-progress-bar {\n",
       "                background: #F44336;\n",
       "            }\n",
       "        </style>\n",
       "      <progress value='0' class='' max='2' style='width:300px; height:20px; vertical-align: middle;'></progress>\n",
       "      \n",
       "    </div>\n",
       "    \n"
      ],
      "text/plain": [
       "<IPython.core.display.HTML object>"
      ]
     },
     "metadata": {},
     "output_type": "display_data"
    },
    {
     "data": {
      "text/html": [
       "<table border=\"1\" class=\"dataframe\">\n",
       "  <thead>\n",
       "    <tr style=\"text-align: left;\">\n",
       "      <th>epoch</th>\n",
       "      <th>train_loss</th>\n",
       "      <th>train_accuracy</th>\n",
       "      <th>valid_loss</th>\n",
       "      <th>valid_accuracy</th>\n",
       "      <th>time</th>\n",
       "    </tr>\n",
       "  </thead>\n",
       "  <tbody>\n",
       "    <tr>\n",
       "      <td>0</td>\n",
       "      <td>0.301258</td>\n",
       "      <td>0.947961</td>\n",
       "      <td>49.023744</td>\n",
       "      <td>0.714706</td>\n",
       "      <td>00:23</td>\n",
       "    </tr>\n",
       "    <tr>\n",
       "      <td>1</td>\n",
       "      <td>0.289093</td>\n",
       "      <td>0.952180</td>\n",
       "      <td>0.379353</td>\n",
       "      <td>0.942157</td>\n",
       "      <td>00:24</td>\n",
       "    </tr>\n",
       "  </tbody>\n",
       "</table>"
      ],
      "text/plain": [
       "<IPython.core.display.HTML object>"
      ]
     },
     "metadata": {},
     "output_type": "display_data"
    }
   ],
   "source": [
    "learn.fit(2)"
   ]
  },
  {
   "cell_type": "code",
   "execution_count": 24,
   "id": "potential-pottery",
   "metadata": {
    "execution": {
     "iopub.execute_input": "2021-06-12T10:33:00.492052Z",
     "iopub.status.busy": "2021-06-12T10:33:00.491906Z",
     "iopub.status.idle": "2021-06-12T10:33:47.601422Z",
     "shell.execute_reply": "2021-06-12T10:33:47.600948Z",
     "shell.execute_reply.started": "2021-06-12T10:33:00.492035Z"
    }
   },
   "outputs": [
    {
     "data": {
      "text/html": [
       "\n",
       "    <div>\n",
       "        <style>\n",
       "            /* Turns off some styling */\n",
       "            progress {\n",
       "                /* gets rid of default border in Firefox and Opera. */\n",
       "                border: none;\n",
       "                /* Needs to be in here for Safari polyfill so background images work as expected. */\n",
       "                background-size: auto;\n",
       "            }\n",
       "            .progress-bar-interrupted, .progress-bar-interrupted::-webkit-progress-bar {\n",
       "                background: #F44336;\n",
       "            }\n",
       "        </style>\n",
       "      <progress value='0' class='' max='2' style='width:300px; height:20px; vertical-align: middle;'></progress>\n",
       "      \n",
       "    </div>\n",
       "    \n"
      ],
      "text/plain": [
       "<IPython.core.display.HTML object>"
      ]
     },
     "metadata": {},
     "output_type": "display_data"
    },
    {
     "data": {
      "text/html": [
       "<table border=\"1\" class=\"dataframe\">\n",
       "  <thead>\n",
       "    <tr style=\"text-align: left;\">\n",
       "      <th>epoch</th>\n",
       "      <th>train_loss</th>\n",
       "      <th>train_accuracy</th>\n",
       "      <th>valid_loss</th>\n",
       "      <th>valid_accuracy</th>\n",
       "      <th>time</th>\n",
       "    </tr>\n",
       "  </thead>\n",
       "  <tbody>\n",
       "    <tr>\n",
       "      <td>0</td>\n",
       "      <td>0.273676</td>\n",
       "      <td>0.962494</td>\n",
       "      <td>1.504329</td>\n",
       "      <td>0.495098</td>\n",
       "      <td>00:23</td>\n",
       "    </tr>\n",
       "    <tr>\n",
       "      <td>1</td>\n",
       "      <td>0.269934</td>\n",
       "      <td>0.962025</td>\n",
       "      <td>0.351727</td>\n",
       "      <td>0.922549</td>\n",
       "      <td>00:23</td>\n",
       "    </tr>\n",
       "  </tbody>\n",
       "</table>"
      ],
      "text/plain": [
       "<IPython.core.display.HTML object>"
      ]
     },
     "metadata": {},
     "output_type": "display_data"
    }
   ],
   "source": [
    "learn.fit(2)"
   ]
  },
  {
   "cell_type": "code",
   "execution_count": null,
   "id": "unique-comment",
   "metadata": {},
   "outputs": [],
   "source": []
  },
  {
   "cell_type": "markdown",
   "id": "adequate-wyoming",
   "metadata": {},
   "source": [
    "# Effnet + Pruning"
   ]
  },
  {
   "cell_type": "code",
   "execution_count": 17,
   "id": "pointed-distributor",
   "metadata": {
    "execution": {
     "iopub.execute_input": "2021-06-12T10:37:38.577707Z",
     "iopub.status.busy": "2021-06-12T10:37:38.577409Z",
     "iopub.status.idle": "2021-06-12T10:37:38.593896Z",
     "shell.execute_reply": "2021-06-12T10:37:38.593456Z",
     "shell.execute_reply.started": "2021-06-12T10:37:38.577672Z"
    }
   },
   "outputs": [],
   "source": [
    "from sprintdl.models.efficientnet import *"
   ]
  },
  {
   "cell_type": "code",
   "execution_count": 18,
   "id": "angry-kentucky",
   "metadata": {
    "execution": {
     "iopub.execute_input": "2021-06-12T10:37:38.735465Z",
     "iopub.status.busy": "2021-06-12T10:37:38.734968Z",
     "iopub.status.idle": "2021-06-12T10:37:38.841749Z",
     "shell.execute_reply": "2021-06-12T10:37:38.840435Z",
     "shell.execute_reply.started": "2021-06-12T10:37:38.735400Z"
    }
   },
   "outputs": [],
   "source": [
    "arch = efficientnet(2, pretrained=False)"
   ]
  },
  {
   "cell_type": "code",
   "execution_count": 19,
   "id": "refined-joshua",
   "metadata": {
    "execution": {
     "iopub.execute_input": "2021-06-12T10:37:39.023062Z",
     "iopub.status.busy": "2021-06-12T10:37:39.022559Z",
     "iopub.status.idle": "2021-06-12T10:37:39.055260Z",
     "shell.execute_reply": "2021-06-12T10:37:39.054451Z",
     "shell.execute_reply.started": "2021-06-12T10:37:39.023001Z"
    }
   },
   "outputs": [],
   "source": [
    "clear_memory()"
   ]
  },
  {
   "cell_type": "code",
   "execution_count": 20,
   "id": "naval-cancellation",
   "metadata": {
    "execution": {
     "iopub.execute_input": "2021-06-12T10:37:39.211711Z",
     "iopub.status.busy": "2021-06-12T10:37:39.211184Z",
     "iopub.status.idle": "2021-06-12T10:37:39.250522Z",
     "shell.execute_reply": "2021-06-12T10:37:39.249697Z",
     "shell.execute_reply.started": "2021-06-12T10:37:39.211647Z"
    }
   },
   "outputs": [],
   "source": [
    "# learn.destroy()"
   ]
  },
  {
   "cell_type": "code",
   "execution_count": 21,
   "id": "medium-drill",
   "metadata": {
    "execution": {
     "iopub.execute_input": "2021-06-12T10:37:39.383082Z",
     "iopub.status.busy": "2021-06-12T10:37:39.382585Z",
     "iopub.status.idle": "2021-06-12T10:37:39.412881Z",
     "shell.execute_reply": "2021-06-12T10:37:39.412235Z",
     "shell.execute_reply.started": "2021-06-12T10:37:39.383024Z"
    }
   },
   "outputs": [],
   "source": [
    "data = ll.to_databunch(64, c_in=3, c_out=2)"
   ]
  },
  {
   "cell_type": "code",
   "execution_count": 22,
   "id": "technological-clause",
   "metadata": {
    "execution": {
     "iopub.execute_input": "2021-06-12T10:37:39.677864Z",
     "iopub.status.busy": "2021-06-12T10:37:39.677678Z",
     "iopub.status.idle": "2021-06-12T10:37:39.691157Z",
     "shell.execute_reply": "2021-06-12T10:37:39.690661Z",
     "shell.execute_reply.started": "2021-06-12T10:37:39.677830Z"
    }
   },
   "outputs": [],
   "source": [
    "learn = Learner(arch, data, loss_func, lr=lr, cb_funcs=cbfs, opt_func=opt_func)"
   ]
  },
  {
   "cell_type": "code",
   "execution_count": 23,
   "id": "indirect-symbol",
   "metadata": {
    "execution": {
     "iopub.execute_input": "2021-06-12T10:37:40.406178Z",
     "iopub.status.busy": "2021-06-12T10:37:40.405914Z",
     "iopub.status.idle": "2021-06-12T10:38:04.524093Z",
     "shell.execute_reply": "2021-06-12T10:38:04.523493Z",
     "shell.execute_reply.started": "2021-06-12T10:37:40.406147Z"
    }
   },
   "outputs": [
    {
     "data": {
      "text/html": [
       "\n",
       "    <div>\n",
       "        <style>\n",
       "            /* Turns off some styling */\n",
       "            progress {\n",
       "                /* gets rid of default border in Firefox and Opera. */\n",
       "                border: none;\n",
       "                /* Needs to be in here for Safari polyfill so background images work as expected. */\n",
       "                background-size: auto;\n",
       "            }\n",
       "            .progress-bar-interrupted, .progress-bar-interrupted::-webkit-progress-bar {\n",
       "                background: #F44336;\n",
       "            }\n",
       "        </style>\n",
       "      <progress value='0' class='' max='1' style='width:300px; height:20px; vertical-align: middle;'></progress>\n",
       "      \n",
       "    </div>\n",
       "    \n"
      ],
      "text/plain": [
       "<IPython.core.display.HTML object>"
      ]
     },
     "metadata": {},
     "output_type": "display_data"
    },
    {
     "data": {
      "text/html": [
       "<table border=\"1\" class=\"dataframe\">\n",
       "  <thead>\n",
       "    <tr style=\"text-align: left;\">\n",
       "      <th>epoch</th>\n",
       "      <th>train_loss</th>\n",
       "      <th>train_accuracy</th>\n",
       "      <th>valid_loss</th>\n",
       "      <th>valid_accuracy</th>\n",
       "      <th>time</th>\n",
       "    </tr>\n",
       "  </thead>\n",
       "  <tbody>\n",
       "    <tr>\n",
       "      <td>0</td>\n",
       "      <td>0.489117</td>\n",
       "      <td>0.849292</td>\n",
       "      <td>0.659654</td>\n",
       "      <td>0.742830</td>\n",
       "      <td>00:24</td>\n",
       "    </tr>\n",
       "  </tbody>\n",
       "</table>"
      ],
      "text/plain": [
       "<IPython.core.display.HTML object>"
      ]
     },
     "metadata": {},
     "output_type": "display_data"
    }
   ],
   "source": [
    "learn.fit(1)"
   ]
  },
  {
   "cell_type": "code",
   "execution_count": 24,
   "id": "cross-summer",
   "metadata": {
    "execution": {
     "iopub.execute_input": "2021-06-12T10:38:51.900076Z",
     "iopub.status.busy": "2021-06-12T10:38:51.899934Z",
     "iopub.status.idle": "2021-06-12T10:40:29.277077Z",
     "shell.execute_reply": "2021-06-12T10:40:29.276594Z",
     "shell.execute_reply.started": "2021-06-12T10:38:51.900060Z"
    }
   },
   "outputs": [
    {
     "data": {
      "text/html": [
       "\n",
       "    <div>\n",
       "        <style>\n",
       "            /* Turns off some styling */\n",
       "            progress {\n",
       "                /* gets rid of default border in Firefox and Opera. */\n",
       "                border: none;\n",
       "                /* Needs to be in here for Safari polyfill so background images work as expected. */\n",
       "                background-size: auto;\n",
       "            }\n",
       "            .progress-bar-interrupted, .progress-bar-interrupted::-webkit-progress-bar {\n",
       "                background: #F44336;\n",
       "            }\n",
       "        </style>\n",
       "      <progress value='0' class='' max='4' style='width:300px; height:20px; vertical-align: middle;'></progress>\n",
       "      \n",
       "    </div>\n",
       "    \n"
      ],
      "text/plain": [
       "<IPython.core.display.HTML object>"
      ]
     },
     "metadata": {},
     "output_type": "display_data"
    },
    {
     "data": {
      "text/html": [
       "<table border=\"1\" class=\"dataframe\">\n",
       "  <thead>\n",
       "    <tr style=\"text-align: left;\">\n",
       "      <th>epoch</th>\n",
       "      <th>train_loss</th>\n",
       "      <th>train_accuracy</th>\n",
       "      <th>valid_loss</th>\n",
       "      <th>valid_accuracy</th>\n",
       "      <th>time</th>\n",
       "    </tr>\n",
       "  </thead>\n",
       "  <tbody>\n",
       "    <tr>\n",
       "      <td>0</td>\n",
       "      <td>0.322619</td>\n",
       "      <td>0.939151</td>\n",
       "      <td>0.708251</td>\n",
       "      <td>0.742830</td>\n",
       "      <td>00:23</td>\n",
       "    </tr>\n",
       "    <tr>\n",
       "      <td>1</td>\n",
       "      <td>0.477249</td>\n",
       "      <td>0.878302</td>\n",
       "      <td>95549.078394</td>\n",
       "      <td>0.742830</td>\n",
       "      <td>00:24</td>\n",
       "    </tr>\n",
       "    <tr>\n",
       "      <td>2</td>\n",
       "      <td>0.570672</td>\n",
       "      <td>0.764151</td>\n",
       "      <td>72.185237</td>\n",
       "      <td>0.742830</td>\n",
       "      <td>00:24</td>\n",
       "    </tr>\n",
       "    <tr>\n",
       "      <td>3</td>\n",
       "      <td>0.389461</td>\n",
       "      <td>0.891745</td>\n",
       "      <td>1.044979</td>\n",
       "      <td>0.748566</td>\n",
       "      <td>00:24</td>\n",
       "    </tr>\n",
       "  </tbody>\n",
       "</table>"
      ],
      "text/plain": [
       "<IPython.core.display.HTML object>"
      ]
     },
     "metadata": {},
     "output_type": "display_data"
    }
   ],
   "source": [
    "learn.fit(4)"
   ]
  },
  {
   "cell_type": "code",
   "execution_count": 25,
   "id": "empty-density",
   "metadata": {
    "execution": {
     "iopub.execute_input": "2021-06-12T10:40:29.278112Z",
     "iopub.status.busy": "2021-06-12T10:40:29.277995Z",
     "iopub.status.idle": "2021-06-12T10:41:18.454144Z",
     "shell.execute_reply": "2021-06-12T10:41:18.453584Z",
     "shell.execute_reply.started": "2021-06-12T10:40:29.278097Z"
    }
   },
   "outputs": [
    {
     "data": {
      "text/html": [
       "\n",
       "    <div>\n",
       "        <style>\n",
       "            /* Turns off some styling */\n",
       "            progress {\n",
       "                /* gets rid of default border in Firefox and Opera. */\n",
       "                border: none;\n",
       "                /* Needs to be in here for Safari polyfill so background images work as expected. */\n",
       "                background-size: auto;\n",
       "            }\n",
       "            .progress-bar-interrupted, .progress-bar-interrupted::-webkit-progress-bar {\n",
       "                background: #F44336;\n",
       "            }\n",
       "        </style>\n",
       "      <progress value='0' class='' max='2' style='width:300px; height:20px; vertical-align: middle;'></progress>\n",
       "      \n",
       "    </div>\n",
       "    \n"
      ],
      "text/plain": [
       "<IPython.core.display.HTML object>"
      ]
     },
     "metadata": {},
     "output_type": "display_data"
    },
    {
     "data": {
      "text/html": [
       "<table border=\"1\" class=\"dataframe\">\n",
       "  <thead>\n",
       "    <tr style=\"text-align: left;\">\n",
       "      <th>epoch</th>\n",
       "      <th>train_loss</th>\n",
       "      <th>train_accuracy</th>\n",
       "      <th>valid_loss</th>\n",
       "      <th>valid_accuracy</th>\n",
       "      <th>time</th>\n",
       "    </tr>\n",
       "  </thead>\n",
       "  <tbody>\n",
       "    <tr>\n",
       "      <td>0</td>\n",
       "      <td>0.351468</td>\n",
       "      <td>0.923113</td>\n",
       "      <td>0.551965</td>\n",
       "      <td>0.823136</td>\n",
       "      <td>00:24</td>\n",
       "    </tr>\n",
       "    <tr>\n",
       "      <td>1</td>\n",
       "      <td>0.342704</td>\n",
       "      <td>0.925708</td>\n",
       "      <td>0.375326</td>\n",
       "      <td>0.907266</td>\n",
       "      <td>00:24</td>\n",
       "    </tr>\n",
       "  </tbody>\n",
       "</table>"
      ],
      "text/plain": [
       "<IPython.core.display.HTML object>"
      ]
     },
     "metadata": {},
     "output_type": "display_data"
    }
   ],
   "source": [
    "learn.fit(2)"
   ]
  },
  {
   "cell_type": "code",
   "execution_count": 26,
   "id": "nuclear-arena",
   "metadata": {
    "execution": {
     "iopub.execute_input": "2021-06-12T10:41:18.455242Z",
     "iopub.status.busy": "2021-06-12T10:41:18.455125Z",
     "iopub.status.idle": "2021-06-12T10:42:08.014948Z",
     "shell.execute_reply": "2021-06-12T10:42:08.014483Z",
     "shell.execute_reply.started": "2021-06-12T10:41:18.455226Z"
    }
   },
   "outputs": [
    {
     "data": {
      "text/html": [
       "\n",
       "    <div>\n",
       "        <style>\n",
       "            /* Turns off some styling */\n",
       "            progress {\n",
       "                /* gets rid of default border in Firefox and Opera. */\n",
       "                border: none;\n",
       "                /* Needs to be in here for Safari polyfill so background images work as expected. */\n",
       "                background-size: auto;\n",
       "            }\n",
       "            .progress-bar-interrupted, .progress-bar-interrupted::-webkit-progress-bar {\n",
       "                background: #F44336;\n",
       "            }\n",
       "        </style>\n",
       "      <progress value='0' class='' max='2' style='width:300px; height:20px; vertical-align: middle;'></progress>\n",
       "      \n",
       "    </div>\n",
       "    \n"
      ],
      "text/plain": [
       "<IPython.core.display.HTML object>"
      ]
     },
     "metadata": {},
     "output_type": "display_data"
    },
    {
     "data": {
      "text/html": [
       "<table border=\"1\" class=\"dataframe\">\n",
       "  <thead>\n",
       "    <tr style=\"text-align: left;\">\n",
       "      <th>epoch</th>\n",
       "      <th>train_loss</th>\n",
       "      <th>train_accuracy</th>\n",
       "      <th>valid_loss</th>\n",
       "      <th>valid_accuracy</th>\n",
       "      <th>time</th>\n",
       "    </tr>\n",
       "  </thead>\n",
       "  <tbody>\n",
       "    <tr>\n",
       "      <td>0</td>\n",
       "      <td>0.317474</td>\n",
       "      <td>0.939858</td>\n",
       "      <td>0.360716</td>\n",
       "      <td>0.904398</td>\n",
       "      <td>00:24</td>\n",
       "    </tr>\n",
       "    <tr>\n",
       "      <td>1</td>\n",
       "      <td>0.305561</td>\n",
       "      <td>0.941038</td>\n",
       "      <td>0.294351</td>\n",
       "      <td>0.945507</td>\n",
       "      <td>00:24</td>\n",
       "    </tr>\n",
       "  </tbody>\n",
       "</table>"
      ],
      "text/plain": [
       "<IPython.core.display.HTML object>"
      ]
     },
     "metadata": {},
     "output_type": "display_data"
    }
   ],
   "source": [
    "learn.fit(2)"
   ]
  },
  {
   "cell_type": "code",
   "execution_count": 27,
   "id": "arctic-hamburg",
   "metadata": {
    "execution": {
     "iopub.execute_input": "2021-06-12T10:42:08.015826Z",
     "iopub.status.busy": "2021-06-12T10:42:08.015710Z",
     "iopub.status.idle": "2021-06-12T10:42:57.315013Z",
     "shell.execute_reply": "2021-06-12T10:42:57.314276Z",
     "shell.execute_reply.started": "2021-06-12T10:42:08.015811Z"
    }
   },
   "outputs": [
    {
     "data": {
      "text/html": [
       "\n",
       "    <div>\n",
       "        <style>\n",
       "            /* Turns off some styling */\n",
       "            progress {\n",
       "                /* gets rid of default border in Firefox and Opera. */\n",
       "                border: none;\n",
       "                /* Needs to be in here for Safari polyfill so background images work as expected. */\n",
       "                background-size: auto;\n",
       "            }\n",
       "            .progress-bar-interrupted, .progress-bar-interrupted::-webkit-progress-bar {\n",
       "                background: #F44336;\n",
       "            }\n",
       "        </style>\n",
       "      <progress value='0' class='' max='2' style='width:300px; height:20px; vertical-align: middle;'></progress>\n",
       "      \n",
       "    </div>\n",
       "    \n"
      ],
      "text/plain": [
       "<IPython.core.display.HTML object>"
      ]
     },
     "metadata": {},
     "output_type": "display_data"
    },
    {
     "data": {
      "text/html": [
       "<table border=\"1\" class=\"dataframe\">\n",
       "  <thead>\n",
       "    <tr style=\"text-align: left;\">\n",
       "      <th>epoch</th>\n",
       "      <th>train_loss</th>\n",
       "      <th>train_accuracy</th>\n",
       "      <th>valid_loss</th>\n",
       "      <th>valid_accuracy</th>\n",
       "      <th>time</th>\n",
       "    </tr>\n",
       "  </thead>\n",
       "  <tbody>\n",
       "    <tr>\n",
       "      <td>0</td>\n",
       "      <td>0.282086</td>\n",
       "      <td>0.958255</td>\n",
       "      <td>0.637681</td>\n",
       "      <td>0.869025</td>\n",
       "      <td>00:24</td>\n",
       "    </tr>\n",
       "    <tr>\n",
       "      <td>1</td>\n",
       "      <td>0.301136</td>\n",
       "      <td>0.943868</td>\n",
       "      <td>0.720867</td>\n",
       "      <td>0.937859</td>\n",
       "      <td>00:24</td>\n",
       "    </tr>\n",
       "  </tbody>\n",
       "</table>"
      ],
      "text/plain": [
       "<IPython.core.display.HTML object>"
      ]
     },
     "metadata": {},
     "output_type": "display_data"
    }
   ],
   "source": [
    "learn.fit(2)"
   ]
  }
 ],
 "metadata": {
  "kernelspec": {
   "display_name": "Python 3",
   "language": "python",
   "name": "python3"
  },
  "language_info": {
   "codemirror_mode": {
    "name": "ipython",
    "version": 3
   },
   "file_extension": ".py",
   "mimetype": "text/x-python",
   "name": "python",
   "nbconvert_exporter": "python",
   "pygments_lexer": "ipython3",
   "version": "3.9.5"
  },
  "toc": {
   "base_numbering": 1,
   "nav_menu": {},
   "number_sections": true,
   "sideBar": true,
   "skip_h1_title": false,
   "title_cell": "Table of Contents",
   "title_sidebar": "Contents",
   "toc_cell": false,
   "toc_position": {},
   "toc_section_display": true,
   "toc_window_display": true
  },
  "varInspector": {
   "cols": {
    "lenName": 16,
    "lenType": 16,
    "lenVar": 40
   },
   "kernels_config": {
    "python": {
     "delete_cmd_postfix": "",
     "delete_cmd_prefix": "del ",
     "library": "var_list.py",
     "varRefreshCmd": "print(var_dic_list())"
    },
    "r": {
     "delete_cmd_postfix": ") ",
     "delete_cmd_prefix": "rm(",
     "library": "var_list.r",
     "varRefreshCmd": "cat(var_dic_list()) "
    }
   },
   "types_to_exclude": [
    "module",
    "function",
    "builtin_function_or_method",
    "instance",
    "_Feature"
   ],
   "window_display": false
  }
 },
 "nbformat": 4,
 "nbformat_minor": 5
}
