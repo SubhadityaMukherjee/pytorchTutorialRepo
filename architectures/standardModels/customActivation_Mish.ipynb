{
 "cells": [
  {
   "cell_type": "markdown",
   "metadata": {},
   "source": [
    "# Notes\n",
    "- The dataset is a custom one -> has a few catgories of landscapes. (Replace with any data in folderwise. One for each class.)\n",
    "- Misra, D. (2019). Mish: A self regularized non-monotonic neural activation function. arXiv preprint arXiv:1908.08681. [paper](https://arxiv.org/pdf/1908.08681)\n",
    "- Changing ReLU -> Mish on VGG16 network"
   ]
  },
  {
   "cell_type": "code",
   "execution_count": 1,
   "metadata": {
    "ExecuteTime": {
     "end_time": "2021-01-20T13:09:42.093682Z",
     "start_time": "2021-01-20T13:09:42.090482Z"
    }
   },
   "outputs": [],
   "source": [
    "import torch\n",
    "from torch import nn\n",
    "import pytorch_lightning as pl\n",
    "from torch.utils.data import DataLoader, random_split\n",
    "from torch.nn import functional as F\n",
    "from torchvision.datasets import MNIST, ImageFolder\n",
    "from torchvision import datasets, transforms\n",
    "from pytorch_lightning import Trainer\n",
    "import torchvision.models as models\n",
    "from collections import Counter\n",
    "from pytorch_lightning import loggers as pl_loggers\n",
    "import pickle\n",
    "import os\n",
    "os.environ[\"TORCH_HOME\"] = \"~/Desktop/Datasets/\""
   ]
  },
  {
   "cell_type": "markdown",
   "metadata": {},
   "source": [
    "# Create model"
   ]
  },
  {
   "cell_type": "code",
   "execution_count": 2,
   "metadata": {},
   "outputs": [],
   "source": [
    "class mish(nn.Module):\n",
    "    def __init__(self):\n",
    "        super(mish, self).__init__()\n",
    "    def forward(self, x):\n",
    "        return x*torch.sigmoid(x)\n"
   ]
  },
  {
   "cell_type": "code",
   "execution_count": 3,
   "metadata": {
    "ExecuteTime": {
     "end_time": "2021-01-20T13:11:34.466990Z",
     "start_time": "2021-01-20T13:11:34.459999Z"
    }
   },
   "outputs": [],
   "source": [
    "class LitModel(pl.LightningModule):\n",
    "    def __init__(self, input_shape, num_classes, learning_rate=2e-4):\n",
    "        super().__init__()\n",
    "\n",
    "        # log hyperparameters\n",
    "        self.save_hyperparameters()\n",
    "        self.learning_rate = learning_rate\n",
    "        self.dim = input_shape\n",
    "        self.num_classes = num_classes\n",
    "        self.accuracy = pl.metrics.Accuracy()\n",
    "        \n",
    "        self.conv1 = self.conv_block(2, 3, 64)\n",
    "        self.conv2 = self.conv_block(2, 64, 128)\n",
    "        self.conv3 = self.conv_block(3, 128, 256)\n",
    "        self.conv4 = self.conv_block(3, 256, 512)\n",
    "        self.conv5 = self.conv_block(3, 512, 512)\n",
    "        self.avgpool = nn.AdaptiveAvgPool2d((7, 7))\n",
    "        self.classif = nn.Sequential(\n",
    "            nn.Linear(512 * 7 * 7, 4096),\n",
    "            mish(),\n",
    "            nn.Dropout(0.25),\n",
    "            nn.Linear(4096, 4096),\n",
    "            mish(),\n",
    "            nn.Dropout(0.25),\n",
    "            nn.Linear(4096, self.num_classes),\n",
    "        )\n",
    "\n",
    "    def _initialize_weights(self):\n",
    "        for m in self.modules():\n",
    "            if isinstance(m, nn.Conv2d):\n",
    "                nn.init.kaiming_normal_(m.weight, mode=\"fan_out\", nonlinearity=\"relu\")\n",
    "                if m.bias is not None:\n",
    "                    nn.init.constant_(m.bias, 0)\n",
    "            elif isinstance(m, nn.BatchNorm2d):\n",
    "                nn.init.constant_(m.weight, 1)\n",
    "                nn.init.constant_(m.bias, 0)\n",
    "            elif isinstance(m, nn.Linear):\n",
    "                nn.init.normal_(m.weight, 0, 0.01)\n",
    "                nn.init.constant_(m.bias, 0)\n",
    "\n",
    "    def conv_block(self, n, inb, out):\n",
    "        return nn.Sequential(\n",
    "            nn.Sequential(\n",
    "                nn.Conv2d(inb, out, kernel_size=3, padding=1, stride=1),\n",
    "                mish(),\n",
    "            ),\n",
    "            *[\n",
    "                nn.Sequential(\n",
    "                    nn.Conv2d(out, out, kernel_size=3, padding=1, stride=1),\n",
    "                    mish(),\n",
    "                )\n",
    "                for _ in range(n - 1)\n",
    "            ],\n",
    "            nn.MaxPool2d(2, 2)\n",
    "        )\n",
    "    def forward(self, x):\n",
    "        self._initialize_weights()\n",
    "        x = self.conv1(x)\n",
    "        x = self.conv2(x)\n",
    "        x = self.conv3(x)\n",
    "        x = self.conv4(x)\n",
    "        x = self.conv5(x)\n",
    "        x = self.avgpool(x)\n",
    "        x = torch.flatten(x, 1)\n",
    "        x = self.classif(x)\n",
    "\n",
    "        return x\n",
    "\n",
    "    def cross_entropy_loss(self, logits, labels):\n",
    "        return F.nll_loss(logits, labels)\n",
    "    \n",
    "    def training_step(self, train_batch, batch_idx):\n",
    "        x, y = train_batch\n",
    "        logits = self.forward(x)\n",
    "        loss = self.cross_entropy_loss(logits, y)\n",
    "        preds = self(x)\n",
    "        self.log('train_acc_step', self.accuracy(preds, y))\n",
    "        self.log('train_loss', loss)\n",
    "#         self.log('avg_p_train', pl.metrics.functional.average_precision(preds, y,num_classes=self.num_classes))\n",
    "        return loss\n",
    "    \n",
    "\n",
    "    def val_step(self, val_batch, batch_idx):\n",
    "        x, y = val_batch\n",
    "        logits = self.forward(x)\n",
    "        loss = self.cross_entropy_loss(logits, y)\n",
    "        preds = self(x)\n",
    "        self.log('val_acc_step', self.accuracy(preds, y))\n",
    "#         self.log('avg_p_val', pl.metrics.functional.average_precision(preds, y,num_classes=self.num_classes))\n",
    "        self.log('val_loss', loss)\n",
    "    \n",
    "    def test_step(self, test_batch, batch_idx):\n",
    "        x, y = test_batch\n",
    "        logits = self.forward(x)\n",
    "        loss = self.cross_entropy_loss(logits, y)\n",
    "        preds = self(x)\n",
    "        self.log('test_acc_step', self.accuracy(preds, y))\n",
    "#         self.log('avg_p_val', pl.metrics.functional.average_precision(preds, y,num_classes=self.num_classes))\n",
    "        self.log('test_loss', loss)\n",
    "\n",
    "    def configure_optimizers(self):\n",
    "        optimizer = torch.optim.Adam(self.parameters(), lr=1e-3)\n",
    "        return optimizer"
   ]
  },
  {
   "cell_type": "markdown",
   "metadata": {},
   "source": [
    "# Load data"
   ]
  },
  {
   "cell_type": "code",
   "execution_count": 4,
   "metadata": {
    "ExecuteTime": {
     "end_time": "2021-01-20T13:11:57.734304Z",
     "start_time": "2021-01-20T13:11:57.729146Z"
    }
   },
   "outputs": [],
   "source": [
    "class ImDataModule(pl.LightningDataModule):\n",
    "    def __init__(self, batch_size, num_classes, data_dir: str = '/home/eragon/Desktop/Datasets/LandscapeSort/'):\n",
    "        super().__init__()\n",
    "        self.data_dir = data_dir\n",
    "        self.batch_size = batch_size\n",
    "\n",
    "        # Augmentation policy\n",
    "        self.augmentation = transforms.Compose([\n",
    "              transforms.RandomResizedCrop(size=256, scale=(0.8, 1.0)),\n",
    "              transforms.RandomRotation(degrees=15),\n",
    "              transforms.RandomHorizontalFlip(),\n",
    "              transforms.CenterCrop(size=224),\n",
    "              transforms.ToTensor(),\n",
    "              transforms.Normalize([0.485, 0.456, 0.406],[0.229, 0.224, 0.225])\n",
    "        ])\n",
    "        self.transform = transforms.Compose([\n",
    "              transforms.Resize(size=256),\n",
    "              transforms.CenterCrop(size=224),\n",
    "              transforms.ToTensor(),\n",
    "              transforms.Normalize([0.485, 0.456, 0.406],[0.229, 0.224, 0.225])\n",
    "        ])\n",
    "        \n",
    "        self.num_classes = num_classes\n",
    "\n",
    "    def setup(self, stage=None):\n",
    "        # build dataset\n",
    "        im_dataset = ImageFolder(self.data_dir)\n",
    "        # split dataset\n",
    "        self.train, self.val, self.test = random_split(im_dataset, [80, 10, 9])\n",
    "        self.train.dataset.transform = self.augmentation\n",
    "        print(dict(Counter(self.train.dataset.targets)))\n",
    "        print(self.train.dataset.class_to_idx)\n",
    "        self.val.dataset.transform = self.transform\n",
    "        self.test.dataset.transform = self.transform\n",
    "        return self.train.dataset.class_to_idx\n",
    "        \n",
    "    def train_dataloader(self):\n",
    "        return DataLoader(self.train, batch_size=self.batch_size, shuffle=True, num_workers=12)\n",
    "\n",
    "    def val_dataloader(self):\n",
    "        return DataLoader(self.val, batch_size=self.batch_size, num_workers=12)\n",
    "\n",
    "    def test_dataloader(self):\n",
    "        return DataLoader(self.test, batch_size=self.batch_size, num_workers=12)"
   ]
  },
  {
   "cell_type": "code",
   "execution_count": 5,
   "metadata": {
    "ExecuteTime": {
     "end_time": "2021-01-20T13:11:58.135972Z",
     "start_time": "2021-01-20T13:11:58.131286Z"
    }
   },
   "outputs": [
    {
     "name": "stdout",
     "output_type": "stream",
     "text": [
      "{0: 16, 1: 22, 2: 36, 3: 25}\n",
      "{'Desert': 0, 'Fields': 1, 'Mountain': 2, 'Water': 3}\n"
     ]
    }
   ],
   "source": [
    "dm = ImDataModule(batch_size=16,num_classes=4)\n",
    "class_ids = dm.setup()"
   ]
  },
  {
   "cell_type": "code",
   "execution_count": 6,
   "metadata": {
    "ExecuteTime": {
     "end_time": "2021-01-20T13:11:59.346870Z",
     "start_time": "2021-01-20T13:11:58.892657Z"
    }
   },
   "outputs": [
    {
     "data": {
      "text/plain": [
       "(torch.Size([10, 3, 224, 224]), torch.Size([10]))"
      ]
     },
     "execution_count": 6,
     "metadata": {},
     "output_type": "execute_result"
    }
   ],
   "source": [
    "# Samples required by the custom ImagePredictionLogger callback to log image predictions.\n",
    "val_samples = next(iter(dm.val_dataloader()))\n",
    "val_imgs, val_labels = val_samples[0], val_samples[1]\n",
    "val_imgs.shape, val_labels.shape"
   ]
  },
  {
   "cell_type": "markdown",
   "metadata": {},
   "source": [
    "# Logs"
   ]
  },
  {
   "cell_type": "code",
   "execution_count": 7,
   "metadata": {
    "ExecuteTime": {
     "end_time": "2021-01-20T13:12:04.659921Z",
     "start_time": "2021-01-20T13:12:04.444379Z"
    }
   },
   "outputs": [],
   "source": [
    "model = LitModel(( 3, 224, 224), 4)"
   ]
  },
  {
   "cell_type": "code",
   "execution_count": 8,
   "metadata": {
    "ExecuteTime": {
     "end_time": "2021-01-20T13:12:06.277713Z",
     "start_time": "2021-01-20T13:12:06.275718Z"
    }
   },
   "outputs": [],
   "source": [
    "tb_logger = pl_loggers.TensorBoardLogger('./lightning_logs/')"
   ]
  },
  {
   "cell_type": "code",
   "execution_count": 9,
   "metadata": {
    "ExecuteTime": {
     "end_time": "2021-01-20T13:12:17.444559Z",
     "start_time": "2021-01-20T13:12:17.434634Z"
    }
   },
   "outputs": [
    {
     "name": "stderr",
     "output_type": "stream",
     "text": [
      "GPU available: True, used: True\n",
      "TPU available: None, using: 0 TPU cores\n",
      "LOCAL_RANK: 0 - CUDA_VISIBLE_DEVICES: [0]\n",
      "/home/eragon/.local/lib/python3.9/site-packages/pytorch_lightning/utilities/distributed.py:49: UserWarning: Disable automatic optimization with the trainer flag is deprecated and will be removed in v1.3.0!Please use the property on the LightningModule for disabling automatic optimization\n",
      "  warnings.warn(*args, **kwargs)\n",
      "Using native 16bit precision.\n"
     ]
    }
   ],
   "source": [
    "trainer = pl.Trainer(auto_select_gpus=True, gpus=1,\n",
    "                     precision=16, profiler=False,max_epochs=30,\n",
    "                    callbacks = [pl.callbacks.ProgressBar()],\n",
    "                     automatic_optimization=True,logger = tb_logger,enable_pl_optimizer=True)"
   ]
  },
  {
   "cell_type": "code",
   "execution_count": 10,
   "metadata": {
    "ExecuteTime": {
     "end_time": "2021-01-20T13:14:35.107768Z",
     "start_time": "2021-01-20T13:12:18.236980Z"
    },
    "scrolled": true
   },
   "outputs": [
    {
     "name": "stderr",
     "output_type": "stream",
     "text": [
      "/home/eragon/.local/lib/python3.9/site-packages/pytorch_lightning/utilities/distributed.py:49: UserWarning: you passed in a val_dataloader but have no validation_step. Skipping validation loop\n",
      "  warnings.warn(*args, **kwargs)\n",
      "\n",
      "  | Name     | Type              | Params\n",
      "-----------------------------------------------\n",
      "0 | accuracy | Accuracy          | 0     \n",
      "1 | conv1    | Sequential        | 38.7 K\n",
      "2 | conv2    | Sequential        | 221 K \n",
      "3 | conv3    | Sequential        | 1.5 M \n",
      "4 | conv4    | Sequential        | 5.9 M \n",
      "5 | conv5    | Sequential        | 7.1 M \n",
      "6 | avgpool  | AdaptiveAvgPool2d | 0     \n",
      "7 | classif  | Sequential        | 119 M \n",
      "-----------------------------------------------\n",
      "134 M     Trainable params\n",
      "0         Non-trainable params\n",
      "134 M     Total params\n"
     ]
    },
    {
     "data": {
      "application/vnd.jupyter.widget-view+json": {
       "model_id": "2771c289882b4571882e91a4d5142f55",
       "version_major": 2,
       "version_minor": 0
      },
      "text/plain": [
       "HBox(children=(HTML(value='Training'), FloatProgress(value=1.0, bar_style='info', layout=Layout(flex='2'), max…"
      ]
     },
     "metadata": {},
     "output_type": "display_data"
    },
    {
     "name": "stdout",
     "output_type": "stream",
     "text": [
      "\n"
     ]
    },
    {
     "data": {
      "text/plain": [
       "1"
      ]
     },
     "execution_count": 10,
     "metadata": {},
     "output_type": "execute_result"
    }
   ],
   "source": [
    "trainer.fit(model, dm)"
   ]
  },
  {
   "cell_type": "code",
   "execution_count": 11,
   "metadata": {
    "ExecuteTime": {
     "end_time": "2021-01-20T13:15:54.893230Z",
     "start_time": "2021-01-20T13:15:54.232722Z"
    }
   },
   "outputs": [
    {
     "data": {
      "application/vnd.jupyter.widget-view+json": {
       "model_id": "5028ff328b9f4a36994f1cfe505586d2",
       "version_major": 2,
       "version_minor": 0
      },
      "text/plain": [
       "HBox(children=(HTML(value='Testing'), FloatProgress(value=1.0, bar_style='info', layout=Layout(flex='2'), max=…"
      ]
     },
     "metadata": {},
     "output_type": "display_data"
    },
    {
     "name": "stdout",
     "output_type": "stream",
     "text": [
      "\n",
      "--------------------------------------------------------------------------------\n",
      "DATALOADER:0 TEST RESULTS\n",
      "{'test_acc_step': tensor(0.3333, device='cuda:0'),\n",
      " 'test_loss': tensor(-6.3976e-06, device='cuda:0')}\n",
      "--------------------------------------------------------------------------------\n"
     ]
    },
    {
     "data": {
      "text/plain": [
       "[{'test_acc_step': 0.3333333432674408, 'test_loss': -6.397565357474377e-06}]"
      ]
     },
     "execution_count": 11,
     "metadata": {},
     "output_type": "execute_result"
    }
   ],
   "source": [
    "trainer.test()"
   ]
  },
  {
   "cell_type": "code",
   "execution_count": 14,
   "metadata": {
    "ExecuteTime": {
     "end_time": "2021-01-20T13:31:51.888107Z",
     "start_time": "2021-01-20T13:31:51.859261Z"
    }
   },
   "outputs": [],
   "source": [
    "trainer.save_checkpoint('model1.ckpt')"
   ]
  },
  {
   "cell_type": "code",
   "execution_count": 15,
   "metadata": {
    "ExecuteTime": {
     "end_time": "2021-01-20T13:16:04.913700Z",
     "start_time": "2021-01-20T13:16:04.907407Z"
    }
   },
   "outputs": [],
   "source": [
    "with open(\"class_ids.pkl\",\"wb+\") as f:\n",
    "    pickle.dump(class_ids, f)"
   ]
  },
  {
   "cell_type": "markdown",
   "metadata": {},
   "source": [
    "# Inference"
   ]
  },
  {
   "cell_type": "code",
   "execution_count": 16,
   "metadata": {
    "ExecuteTime": {
     "end_time": "2021-01-20T13:16:05.882990Z",
     "start_time": "2021-01-20T13:16:05.877986Z"
    }
   },
   "outputs": [],
   "source": [
    "from PIL import Image"
   ]
  },
  {
   "cell_type": "code",
   "execution_count": 17,
   "metadata": {
    "ExecuteTime": {
     "end_time": "2021-01-20T13:16:06.581873Z",
     "start_time": "2021-01-20T13:16:06.049435Z"
    }
   },
   "outputs": [],
   "source": [
    "with open(\"class_ids.pkl\",\"rb+\") as f:\n",
    "    class_ids = pickle.load(f)"
   ]
  },
  {
   "cell_type": "code",
   "execution_count": 18,
   "metadata": {
    "ExecuteTime": {
     "end_time": "2021-01-20T13:16:07.665214Z",
     "start_time": "2021-01-20T13:16:07.659546Z"
    }
   },
   "outputs": [],
   "source": [
    "transform = transforms.Compose([\n",
    "              transforms.Resize(size=256),\n",
    "              transforms.CenterCrop(size=224),\n",
    "              transforms.ToTensor(),\n",
    "              transforms.Normalize([0.485, 0.456, 0.406],[0.229, 0.224, 0.225])\n",
    "        ])"
   ]
  },
  {
   "cell_type": "code",
   "execution_count": 19,
   "metadata": {
    "ExecuteTime": {
     "end_time": "2021-01-20T13:16:08.366990Z",
     "start_time": "2021-01-20T13:16:08.062031Z"
    }
   },
   "outputs": [
    {
     "data": {
      "text/plain": [
       "{0: 'Desert', 1: 'Fields', 2: 'Mountain', 3: 'Water'}"
      ]
     },
     "execution_count": 19,
     "metadata": {},
     "output_type": "execute_result"
    }
   ],
   "source": [
    "class_ids = {v: k for k, v in class_ids.items()}\n",
    "class_ids"
   ]
  },
  {
   "cell_type": "code",
   "execution_count": 20,
   "metadata": {
    "ExecuteTime": {
     "end_time": "2021-01-20T13:16:09.043601Z",
     "start_time": "2021-01-20T13:16:08.765436Z"
    }
   },
   "outputs": [],
   "source": [
    "m1 = LitModel.load_from_checkpoint('model1.ckpt')"
   ]
  },
  {
   "cell_type": "code",
   "execution_count": 25,
   "metadata": {
    "ExecuteTime": {
     "end_time": "2021-01-20T13:16:29.225234Z",
     "start_time": "2021-01-20T13:16:29.220544Z"
    }
   },
   "outputs": [],
   "source": [
    "t_path = \"/home/eragon/Desktop/Datasets/LandscapeSort/Mountain/00000025_(7).jpg\""
   ]
  },
  {
   "cell_type": "code",
   "execution_count": 26,
   "metadata": {
    "ExecuteTime": {
     "end_time": "2021-01-20T13:16:29.504657Z",
     "start_time": "2021-01-20T13:16:29.492020Z"
    }
   },
   "outputs": [
    {
     "data": {
      "image/png": "[encoded data removed]",
      "text/plain": [
       "<PIL.Image.Image image mode=RGB size=128x128 at 0x7FEE82150130>"
      ]
     },
     "execution_count": 26,
     "metadata": {},
     "output_type": "execute_result"
    }
   ],
   "source": [
    "im_sh = Image.open(t_path).convert('RGB');im_sh.resize((128,128))"
   ]
  },
  {
   "cell_type": "code",
   "execution_count": 27,
   "metadata": {
    "ExecuteTime": {
     "end_time": "2021-01-20T13:16:30.087207Z",
     "start_time": "2021-01-20T13:16:30.079083Z"
    }
   },
   "outputs": [],
   "source": [
    "test = transform(im_sh).unsqueeze(0)"
   ]
  },
  {
   "cell_type": "code",
   "execution_count": 28,
   "metadata": {
    "ExecuteTime": {
     "end_time": "2021-01-20T13:16:30.367444Z",
     "start_time": "2021-01-20T13:16:30.331624Z"
    },
    "scrolled": true
   },
   "outputs": [
    {
     "data": {
      "text/plain": [
       "'Water'"
      ]
     },
     "execution_count": 28,
     "metadata": {},
     "output_type": "execute_result"
    }
   ],
   "source": [
    "pred = class_ids[int(torch.argmax(m1(test), 1))];pred"
   ]
  },
  {
   "cell_type": "code",
   "execution_count": null,
   "metadata": {},
   "outputs": [],
   "source": []
  },
  {
   "cell_type": "code",
   "execution_count": null,
   "metadata": {},
   "outputs": [],
   "source": []
  },
  {
   "cell_type": "code",
   "execution_count": null,
   "metadata": {},
   "outputs": [],
   "source": []
  },
  {
   "cell_type": "code",
   "execution_count": null,
   "metadata": {},
   "outputs": [],
   "source": []
  }
 ],
 "metadata": {
  "kernelspec": {
   "display_name": "Python 3",
   "language": "python",
   "name": "python3"
  },
  "language_info": {
   "codemirror_mode": {
    "name": "ipython",
    "version": 3
   },
   "file_extension": ".py",
   "mimetype": "text/x-python",
   "name": "python",
   "nbconvert_exporter": "python",
   "pygments_lexer": "ipython3",
   "version": "3.9.1"
  },
  "toc": {
   "base_numbering": 1,
   "nav_menu": {},
   "number_sections": true,
   "sideBar": true,
   "skip_h1_title": false,
   "title_cell": "Table of Contents",
   "title_sidebar": "Contents",
   "toc_cell": false,
   "toc_position": {},
   "toc_section_display": true,
   "toc_window_display": false
  }
 },
 "nbformat": 4,
 "nbformat_minor": 4
}
