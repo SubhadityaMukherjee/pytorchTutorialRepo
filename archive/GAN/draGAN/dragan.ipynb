{
 "cells": [
  {
   "cell_type": "code",
   "execution_count": 1,
   "metadata": {
    "ExecuteTime": {
     "end_time": "2021-01-20T13:09:42.093682Z",
     "start_time": "2021-01-20T13:09:42.090482Z"
    },
    "execution": {
     "iopub.execute_input": "2021-02-23T09:35:06.494261Z",
     "iopub.status.busy": "2021-02-23T09:35:06.494075Z",
     "iopub.status.idle": "2021-02-23T09:35:07.785073Z",
     "shell.execute_reply": "2021-02-23T09:35:07.784662Z",
     "shell.execute_reply.started": "2021-02-23T09:35:06.494209Z"
    },
    "run_control": {
     "marked": true
    }
   },
   "outputs": [],
   "source": [
    "import matplotlib.pyplot as plt\n",
    "import pandas as pd\n",
    "import os\n",
    "import glob\n",
    "import cv2\n",
    "import json\n",
    "from collections import Counter, OrderedDict\n",
    "import pickle\n",
    "import numpy as np\n",
    "\n",
    "\n",
    "import torch.optim as optim\n",
    "import torch\n",
    "from torch import nn\n",
    "from torch.utils.data import DataLoader, random_split\n",
    "from torch.nn import functional as F\n",
    "from torch.utils.data import Dataset, TensorDataset, DataLoader\n",
    "\n",
    "import torchvision\n",
    "from torchvision.datasets import ImageFolder\n",
    "from torchvision import datasets, transforms\n",
    "\n",
    "import pytorch_lightning as pl\n",
    "from pytorch_lightning import Trainer\n",
    "from pytorch_lightning.loggers import TensorBoardLogger\n",
    "from pytorch_lightning.metrics.functional import accuracy\n",
    "\n",
    "import albumentations as A\n",
    "from albumentations.core.composition import Compose\n",
    "from albumentations.pytorch import ToTensorV2\n",
    "\n",
    "from PIL import Image\n",
    "import matplotlib.pyplot as plt\n",
    "\n",
    "from sklearn import metrics, model_selection, preprocessing\n",
    "from sklearn.model_selection import StratifiedKFold\n",
    "\n",
    "os.environ[\"TORCH_HOME\"] = \"/media/hdd/Datasets/\""
   ]
  },
  {
   "cell_type": "code",
   "execution_count": 2,
   "metadata": {
    "execution": {
     "iopub.execute_input": "2021-02-23T09:35:07.785903Z",
     "iopub.status.busy": "2021-02-23T09:35:07.785779Z",
     "iopub.status.idle": "2021-02-23T09:35:07.791347Z",
     "shell.execute_reply": "2021-02-23T09:35:07.790800Z",
     "shell.execute_reply.started": "2021-02-23T09:35:07.785888Z"
    },
    "run_control": {
     "marked": true
    }
   },
   "outputs": [],
   "source": [
    "import torchsnooper as sn"
   ]
  },
  {
   "cell_type": "markdown",
   "metadata": {},
   "source": [
    "# Create model"
   ]
  },
  {
   "cell_type": "code",
   "execution_count": 3,
   "metadata": {
    "execution": {
     "iopub.execute_input": "2021-02-23T09:35:07.792209Z",
     "iopub.status.busy": "2021-02-23T09:35:07.792061Z",
     "iopub.status.idle": "2021-02-23T09:35:07.798040Z",
     "shell.execute_reply": "2021-02-23T09:35:07.797428Z",
     "shell.execute_reply.started": "2021-02-23T09:35:07.792193Z"
    },
    "run_control": {
     "marked": true
    }
   },
   "outputs": [],
   "source": [
    "class Generator(nn.Module):\n",
    "    def __init__(self, latent_dim: int, feature_maps: int, image_channels: int) -> None:\n",
    "        super().__init__()\n",
    "        self.gen = nn.Sequential(\n",
    "            self._make_gen_block(\n",
    "                latent_dim, feature_maps * 8, kernel_size=4, stride=1, padding=0\n",
    "            ),\n",
    "            self._make_gen_block(feature_maps * 8, feature_maps * 4),\n",
    "            self._make_gen_block(feature_maps * 4, feature_maps * 2),\n",
    "            self._make_gen_block(feature_maps * 2, feature_maps),\n",
    "            self._make_gen_block(feature_maps, image_channels, last_block=True),\n",
    "        )\n",
    "\n",
    "    @staticmethod\n",
    "    def _make_gen_block(\n",
    "        in_channels: int,\n",
    "        out_channels: int,\n",
    "        kernel_size: int = 1,\n",
    "        stride: int = 2,\n",
    "        padding: int = 1,\n",
    "        bias: bool = False,\n",
    "        last_block: bool = False,\n",
    "    ) -> nn.Sequential:\n",
    "        if not last_block:\n",
    "            gen_block = nn.Sequential(\n",
    "                nn.ConvTranspose2d(\n",
    "                    in_channels, out_channels, kernel_size, stride, padding, bias=bias\n",
    "                ),\n",
    "                nn.BatchNorm2d(out_channels),\n",
    "                nn.ReLU(True),\n",
    "            )\n",
    "        else:\n",
    "            gen_block = nn.Sequential(\n",
    "                nn.ConvTranspose2d(\n",
    "                    in_channels, out_channels, kernel_size, stride, padding, bias=bias\n",
    "                ),\n",
    "                nn.Tanh(),\n",
    "            )\n",
    "\n",
    "        return gen_block\n",
    "\n",
    "    def forward(self, noise: torch.Tensor) -> torch.Tensor:\n",
    "        return self.gen(noise)"
   ]
  },
  {
   "cell_type": "code",
   "execution_count": 4,
   "metadata": {
    "execution": {
     "iopub.execute_input": "2021-02-23T09:35:07.798902Z",
     "iopub.status.busy": "2021-02-23T09:35:07.798748Z",
     "iopub.status.idle": "2021-02-23T09:35:07.804557Z",
     "shell.execute_reply": "2021-02-23T09:35:07.804028Z",
     "shell.execute_reply.started": "2021-02-23T09:35:07.798885Z"
    },
    "run_control": {
     "marked": true
    }
   },
   "outputs": [],
   "source": [
    "class Discriminator(nn.Module):\n",
    "    def __init__(self, feature_maps: int, image_channels: int) -> None:\n",
    "        super().__init__()\n",
    "        self.disc = nn.Sequential(\n",
    "            self._make_disc_block(image_channels, feature_maps, batch_norm=False),\n",
    "            self._make_disc_block(feature_maps, feature_maps * 2),\n",
    "            self._make_disc_block(feature_maps * 2, feature_maps * 4),\n",
    "            self._make_disc_block(feature_maps * 4, feature_maps * 8),\n",
    "            self._make_disc_block(\n",
    "                feature_maps * 8, 1, kernel_size=4, stride=1, padding=0, last_block=True\n",
    "            ),\n",
    "        )\n",
    "\n",
    "    @staticmethod\n",
    "    def _make_disc_block(\n",
    "        in_channels: int,\n",
    "        out_channels: int,\n",
    "        kernel_size: int = 1,\n",
    "        stride: int = 2,\n",
    "        padding: int = 1,\n",
    "        bias: bool = False,\n",
    "        batch_norm: bool = True,\n",
    "        last_block: bool = False,\n",
    "    ) -> nn.Sequential:\n",
    "        if not last_block:\n",
    "            disc_block = nn.Sequential(\n",
    "                nn.Conv2d(\n",
    "                    in_channels, out_channels, kernel_size, stride, padding, bias=bias\n",
    "                ),\n",
    "                nn.BatchNorm2d(out_channels) if batch_norm else nn.Identity(),\n",
    "                nn.LeakyReLU(0.2, inplace=True),\n",
    "            )\n",
    "        else:\n",
    "            disc_block = nn.Sequential(\n",
    "                nn.Conv2d(\n",
    "                    in_channels, out_channels, kernel_size, stride, padding, bias=bias\n",
    "                ),\n",
    "                nn.Sigmoid(),\n",
    "            )\n",
    "\n",
    "        return disc_block\n",
    "\n",
    "    def forward(self, x: torch.Tensor) -> torch.Tensor:\n",
    "        return self.disc(x).view(-1, 1).squeeze(1)"
   ]
  },
  {
   "cell_type": "code",
   "execution_count": 30,
   "metadata": {
    "ExecuteTime": {
     "end_time": "2021-01-20T13:11:34.466990Z",
     "start_time": "2021-01-20T13:11:34.459999Z"
    },
    "execution": {
     "iopub.execute_input": "2021-02-23T10:59:27.834616Z",
     "iopub.status.busy": "2021-02-23T10:59:27.834077Z",
     "iopub.status.idle": "2021-02-23T10:59:27.860779Z",
     "shell.execute_reply": "2021-02-23T10:59:27.860180Z",
     "shell.execute_reply.started": "2021-02-23T10:59:27.834552Z"
    },
    "run_control": {
     "marked": true
    }
   },
   "outputs": [],
   "source": [
    "# Efficient net b5\n",
    "# @sn.snoop()\n",
    "class LitModel(pl.LightningModule):\n",
    "    def __init__(\n",
    "        self,\n",
    "        learning_rate=1e-4,\n",
    "        weight_decay=0.0001,\n",
    "        latent_dim=100,\n",
    "        img_shape=(128, 128),\n",
    "    ):\n",
    "        super().__init__()\n",
    "\n",
    "        # log hyperparameters\n",
    "        self.save_hyperparameters()\n",
    "        self.learning_rate = learning_rate\n",
    "        self.weight_decay = weight_decay\n",
    "        self.latent_dim = latent_dim\n",
    "        self.img_shape = (1, 32, 32)\n",
    "\n",
    "        self.generator = self.getGenerator()\n",
    "        self.discriminator = self.getDiscriminator()\n",
    "\n",
    "        self.validation_z = torch.randn(8, self.latent_dim)\n",
    "        self.eg_inp = torch.zeros(2, self.latent_dim)\n",
    "\n",
    "    def getGenerator(self):\n",
    "        gen = Generator(self.latent_dim, 64, 3)\n",
    "        gen.apply(self._weights_init)\n",
    "        return gen\n",
    "\n",
    "    def getDiscriminator(self):\n",
    "        disc = Discriminator(64, 3)\n",
    "        disc.apply(self._weights_init)\n",
    "        return disc\n",
    "\n",
    "    def forward(self, x):\n",
    "        x = x.view(*x.shape, 1, 1)\n",
    "        return self.generator(x)\n",
    "\n",
    "    def adversarial_loss(self, y_hat, y):\n",
    "        return nn.BCEWithLogitsLoss()(y_hat, y)\n",
    "\n",
    "    @staticmethod\n",
    "    def _weights_init(m):\n",
    "        classname = m.__class__.__name__\n",
    "        if classname.find(\"Conv\") != -1:\n",
    "            torch.nn.init.normal_(m.weight, 0.0, 0.02)\n",
    "        elif classname.find(\"BatchNorm\") != -1:\n",
    "            torch.nn.init.normal_(m.weight, 1.0, 0.02)\n",
    "            torch.nn.init.zeros_(m.bias)\n",
    "\n",
    "    def configure_optimizers(self):\n",
    "        optimizer_g = torch.optim.AdamW(\n",
    "            self.parameters(), lr=self.learning_rate, weight_decay=self.weight_decay\n",
    "        )\n",
    "\n",
    "        optimizer_d = torch.optim.AdamW(\n",
    "            self.parameters(), lr=self.learning_rate, weight_decay=self.weight_decay\n",
    "        )\n",
    "\n",
    "        scheduler_g = torch.optim.lr_scheduler.StepLR(\n",
    "            optimizer_g, step_size=2, gamma=0.1\n",
    "        )\n",
    "        scheduler_d = torch.optim.lr_scheduler.StepLR(\n",
    "            optimizer_d, step_size=2, gamma=0.1\n",
    "        )\n",
    "\n",
    "        return ([optimizer_g, optimizer_d], [scheduler_g, scheduler_d])\n",
    "\n",
    "    def training_step(self, batch, batch_idx, optimizer_idx):\n",
    "        real = batch\n",
    "\n",
    "        result = None\n",
    "        # disc\n",
    "        if optimizer_idx == 0:\n",
    "            res = self.discStep(real)\n",
    "\n",
    "        # gen\n",
    "        if optimizer_idx == 1:\n",
    "            res = self.genStep(real)\n",
    "        return res\n",
    "\n",
    "    def genStep(self, real):\n",
    "        gen_loss = self.genLoss(real)\n",
    "        self.log(\"genLoss\", gen_loss, on_epoch=True)\n",
    "        return gen_loss\n",
    "\n",
    "    def discStep(self, real):\n",
    "        disc_loss = self.discLoss(real)\n",
    "        self.log(\"discLoss\", disc_loss, on_epoch=True)\n",
    "        return disc_loss\n",
    "\n",
    "    def discLoss(self, real):\n",
    "        # train with real\n",
    "        real_pred = self.discriminator(real)\n",
    "        real_gt = torch.ones_like(real_pred)\n",
    "        real_loss = self.adversarial_loss(real_pred, real_gt)\n",
    "\n",
    "        # train with fake\n",
    "        fake_pred = self.getFakePred(real)\n",
    "        fake_gt = torch.zeros_like(fake_pred)\n",
    "        fake_loss = self.adversarial_loss(fake_pred, fake_gt)\n",
    "        return real_loss + fake_loss\n",
    "\n",
    "    def genLoss(self, real):\n",
    "        fake_pred = self.getFakePred(real)\n",
    "        fake_gt = torch.ones_like(fake_pred)\n",
    "        fake_loss = self.adversarial_loss(fake_pred, fake_gt)\n",
    "        return fake_loss\n",
    "\n",
    "    def getFakePred(self, real):\n",
    "        batch_size = len(real)\n",
    "        noise = self.getNoise(batch_size, self.latent_dim)\n",
    "        fake = self(noise)\n",
    "        fake_pred = self.discriminator(fake)\n",
    "        return fake_pred\n",
    "\n",
    "    def getNoise(self, n_samples, latent_dim):\n",
    "        return torch.randn(n_samples, latent_dim, device=torch.device(\"cuda\"))\n",
    "\n",
    "    def on_epoch_end(self):\n",
    "        fixed_noise = torch.randn(64, self.latent_dim, 1, 1, device=\"cuda\")\n",
    "        temp = (\n",
    "            torchvision.utils.make_grid(\n",
    "                self.generator(fixed_noise).detach().cpu(), padding=2, normalize=True\n",
    "            )\n",
    "            .detach()\n",
    "            .cpu()\n",
    "            .numpy()\n",
    "        )\n",
    "        temp = np.transpose(temp, (1, 2, 0))\n",
    "        plt.imshow(temp)\n",
    "        plt.savefig(f\"./outputs/epoch{self.current_epoch}_output.png\")"
   ]
  },
  {
   "cell_type": "markdown",
   "metadata": {},
   "source": [
    "# Load data"
   ]
  },
  {
   "cell_type": "code",
   "execution_count": 31,
   "metadata": {
    "execution": {
     "iopub.execute_input": "2021-02-23T10:59:28.372286Z",
     "iopub.status.busy": "2021-02-23T10:59:28.371750Z",
     "iopub.status.idle": "2021-02-23T10:59:28.384127Z",
     "shell.execute_reply": "2021-02-23T10:59:28.382230Z",
     "shell.execute_reply.started": "2021-02-23T10:59:28.372224Z"
    },
    "run_control": {
     "marked": true
    }
   },
   "outputs": [],
   "source": [
    "class ImageFolderDs(Dataset):\n",
    "    def __init__(self, image_list, transforms=None):\n",
    "        self.image_list = image_list\n",
    "        self.transforms = transforms\n",
    "\n",
    "    def __len__(self):\n",
    "        return len(self.image_list)\n",
    "\n",
    "    def __getitem__(self, i):\n",
    "        image = Image.open(self.image_list[i])\n",
    "        image = np.asarray(image, dtype=np.uint8)\n",
    "        if self.transforms is not None:\n",
    "            image = self.transforms(image=image)\n",
    "        return image[\"image\"]"
   ]
  },
  {
   "cell_type": "code",
   "execution_count": 32,
   "metadata": {
    "ExecuteTime": {
     "end_time": "2021-01-20T13:11:57.734304Z",
     "start_time": "2021-01-20T13:11:57.729146Z"
    },
    "execution": {
     "iopub.execute_input": "2021-02-23T10:59:28.541257Z",
     "iopub.status.busy": "2021-02-23T10:59:28.540691Z",
     "iopub.status.idle": "2021-02-23T10:59:28.556263Z",
     "shell.execute_reply": "2021-02-23T10:59:28.555252Z",
     "shell.execute_reply.started": "2021-02-23T10:59:28.541194Z"
    },
    "run_control": {
     "marked": true
    }
   },
   "outputs": [],
   "source": [
    "class ImDataModule(pl.LightningDataModule):\n",
    "    def __init__(self, batch_size, data_dir, img_size=(256, 256)):\n",
    "        super().__init__()\n",
    "        self.data_dir = data_dir\n",
    "        self.batch_size = batch_size\n",
    "        self.train_transform = A.Compose(\n",
    "            [\n",
    "                A.RandomResizedCrop(img_size, img_size, p=1.0),\n",
    "                A.Transpose(p=0.5),\n",
    "                A.HorizontalFlip(p=0.5),\n",
    "                A.VerticalFlip(p=0.5),\n",
    "                A.ShiftScaleRotate(p=0.5),\n",
    "                A.HueSaturationValue(\n",
    "                    hue_shift_limit=0.2, sat_shift_limit=0.2, val_shift_limit=0.2, p=0.5\n",
    "                ),\n",
    "                A.RandomBrightnessContrast(\n",
    "                    brightness_limit=(-0.1, 0.1), contrast_limit=(-0.1, 0.1), p=0.5\n",
    "                ),\n",
    "                A.Normalize(\n",
    "                    mean=[0.485, 0.456, 0.406],\n",
    "                    std=[0.229, 0.224, 0.225],\n",
    "                    max_pixel_value=255.0,\n",
    "                    p=1.0,\n",
    "                ),\n",
    "                A.CoarseDropout(p=0.5),\n",
    "                A.Cutout(p=0.5),\n",
    "                ToTensorV2(p=1.0),\n",
    "            ],\n",
    "            p=1.0,\n",
    "        )\n",
    "\n",
    "    def setup(self, stage=None):\n",
    "        self.image_list = [self.data_dir + x for x in os.listdir(self.data_dir)]\n",
    "        self.train_dataset = ImageFolderDs(\n",
    "            image_list=self.image_list, transforms=self.train_transform\n",
    "        )\n",
    "\n",
    "    def train_dataloader(self):\n",
    "        return DataLoader(\n",
    "            self.train_dataset, batch_size=self.batch_size, num_workers=12, shuffle=True\n",
    "        )"
   ]
  },
  {
   "cell_type": "code",
   "execution_count": 33,
   "metadata": {
    "execution": {
     "iopub.execute_input": "2021-02-23T10:59:29.085001Z",
     "iopub.status.busy": "2021-02-23T10:59:29.084864Z",
     "iopub.status.idle": "2021-02-23T10:59:29.087299Z",
     "shell.execute_reply": "2021-02-23T10:59:29.086829Z",
     "shell.execute_reply.started": "2021-02-23T10:59:29.084986Z"
    },
    "run_control": {
     "marked": true
    }
   },
   "outputs": [],
   "source": [
    "batch_size = 1000\n",
    "img_size = 128\n",
    "latent_dim = 100"
   ]
  },
  {
   "cell_type": "code",
   "execution_count": 34,
   "metadata": {
    "ExecuteTime": {
     "end_time": "2021-01-20T13:11:58.135972Z",
     "start_time": "2021-01-20T13:11:58.131286Z"
    },
    "execution": {
     "iopub.execute_input": "2021-02-23T10:59:29.254327Z",
     "iopub.status.busy": "2021-02-23T10:59:29.253742Z",
     "iopub.status.idle": "2021-02-23T10:59:29.335681Z",
     "shell.execute_reply": "2021-02-23T10:59:29.335200Z",
     "shell.execute_reply.started": "2021-02-23T10:59:29.254260Z"
    },
    "run_control": {
     "marked": true
    }
   },
   "outputs": [],
   "source": [
    "dm = ImDataModule(\n",
    "    data_dir=\"/media/hdd/Datasets/celeba/img_align_celeba/\",\n",
    "    batch_size=batch_size,\n",
    "    img_size=img_size,\n",
    ")\n",
    "class_ids = dm.setup()"
   ]
  },
  {
   "cell_type": "markdown",
   "metadata": {},
   "source": [
    "# Logs"
   ]
  },
  {
   "cell_type": "code",
   "execution_count": 35,
   "metadata": {
    "ExecuteTime": {
     "end_time": "2021-01-20T13:12:04.659921Z",
     "start_time": "2021-01-20T13:12:04.444379Z"
    },
    "execution": {
     "iopub.execute_input": "2021-02-23T10:59:29.542284Z",
     "iopub.status.busy": "2021-02-23T10:59:29.541763Z",
     "iopub.status.idle": "2021-02-23T10:59:29.588896Z",
     "shell.execute_reply": "2021-02-23T10:59:29.588386Z",
     "shell.execute_reply.started": "2021-02-23T10:59:29.542223Z"
    },
    "run_control": {
     "marked": true
    }
   },
   "outputs": [],
   "source": [
    "model = LitModel(img_shape=(img_size, img_size, 3), latent_dim=latent_dim)"
   ]
  },
  {
   "cell_type": "code",
   "execution_count": 36,
   "metadata": {
    "execution": {
     "iopub.execute_input": "2021-02-23T10:59:29.693809Z",
     "iopub.status.busy": "2021-02-23T10:59:29.693248Z",
     "iopub.status.idle": "2021-02-23T10:59:29.701087Z",
     "shell.execute_reply": "2021-02-23T10:59:29.698977Z",
     "shell.execute_reply.started": "2021-02-23T10:59:29.693742Z"
    },
    "run_control": {
     "marked": true
    }
   },
   "outputs": [],
   "source": [
    "logger = TensorBoardLogger(save_dir=\"logs\")"
   ]
  },
  {
   "cell_type": "code",
   "execution_count": 37,
   "metadata": {
    "ExecuteTime": {
     "end_time": "2021-01-20T13:12:17.444559Z",
     "start_time": "2021-01-20T13:12:17.434634Z"
    },
    "execution": {
     "iopub.execute_input": "2021-02-23T10:59:29.854243Z",
     "iopub.status.busy": "2021-02-23T10:59:29.853609Z",
     "iopub.status.idle": "2021-02-23T10:59:29.874421Z",
     "shell.execute_reply": "2021-02-23T10:59:29.873188Z",
     "shell.execute_reply.started": "2021-02-23T10:59:29.854171Z"
    },
    "run_control": {
     "marked": true
    }
   },
   "outputs": [
    {
     "name": "stderr",
     "output_type": "stream",
     "text": [
      "GPU available: True, used: True\n",
      "TPU available: None, using: 0 TPU cores\n",
      "Using environment variable NODE_RANK for node rank (0).\n",
      "LOCAL_RANK: 0 - CUDA_VISIBLE_DEVICES: [0]\n",
      "/home/eragon/.local/lib/python3.9/site-packages/pytorch_lightning/utilities/distributed.py:50: UserWarning: Disable automatic optimization with the trainer flag is deprecated and will be removed in v1.3.0!Please use the property on the LightningModule for disabling automatic optimization\n",
      "  warnings.warn(*args, **kwargs)\n",
      "Using native 16bit precision.\n",
      "/home/eragon/.local/lib/python3.9/site-packages/pytorch_lightning/utilities/distributed.py:50: UserWarning: plugin <class 'pytorch_lightning.plugins.sharded_plugin.DDPShardedPlugin'> has added additional required plugins as default: [<class 'pytorch_lightning.plugins.sharded_native_amp_plugin.ShardedNativeAMPPlugin'>]Extend this plugin and override `required_plugins`if this conflicts with your additional plugins.\n",
      "  warnings.warn(*args, **kwargs)\n"
     ]
    }
   ],
   "source": [
    "trainer = pl.Trainer(\n",
    "    auto_select_gpus=True,\n",
    "    gpus=1,\n",
    "    precision=16,\n",
    "    profiler=False,\n",
    "    max_epochs=5,\n",
    "    callbacks=[pl.callbacks.ProgressBar()],\n",
    "    automatic_optimization=True,\n",
    "    enable_pl_optimizer=True,\n",
    "    logger=logger,\n",
    "    accelerator=\"ddp\",\n",
    "    plugins=\"ddp_sharded\",\n",
    ")"
   ]
  },
  {
   "cell_type": "code",
   "execution_count": 38,
   "metadata": {
    "ExecuteTime": {
     "end_time": "2021-01-20T13:14:35.107768Z",
     "start_time": "2021-01-20T13:12:18.236980Z"
    },
    "execution": {
     "iopub.execute_input": "2021-02-23T10:59:32.572830Z",
     "iopub.status.busy": "2021-02-23T10:59:32.572312Z",
     "iopub.status.idle": "2021-02-23T11:03:53.804336Z",
     "shell.execute_reply": "2021-02-23T11:03:53.803824Z",
     "shell.execute_reply.started": "2021-02-23T10:59:32.572769Z"
    },
    "run_control": {
     "marked": true
    }
   },
   "outputs": [
    {
     "name": "stderr",
     "output_type": "stream",
     "text": [
      "\n",
      "  | Name          | Type          | Params\n",
      "------------------------------------------------\n",
      "0 | generator     | Generator     | 993 K \n",
      "1 | discriminator | Discriminator | 182 K \n",
      "------------------------------------------------\n",
      "1.2 M     Trainable params\n",
      "0         Non-trainable params\n",
      "1.2 M     Total params\n"
     ]
    },
    {
     "data": {
      "application/vnd.jupyter.widget-view+json": {
       "model_id": "0c1715a1def34ba0b24c2f20a7cfabb7",
       "version_major": 2,
       "version_minor": 0
      },
      "text/plain": [
       "Training: 0it [00:00, ?it/s]"
      ]
     },
     "metadata": {},
     "output_type": "display_data"
    },
    {
     "name": "stderr",
     "output_type": "stream",
     "text": [
      "/home/eragon/.local/lib/python3.9/site-packages/torch/optim/lr_scheduler.py:131: UserWarning: Detected call of `lr_scheduler.step()` before `optimizer.step()`. In PyTorch 1.1.0 and later, you should call them in the opposite order: `optimizer.step()` before `lr_scheduler.step()`.  Failure to do this will result in PyTorch skipping the first value of the learning rate schedule. See more details at https://pytorch.org/docs/stable/optim.html#how-to-adjust-learning-rate\n",
      "  warnings.warn(\"Detected call of `lr_scheduler.step()` before `optimizer.step()`. \"\n",
      "/home/eragon/.local/lib/python3.9/site-packages/pytorch_lightning/utilities/distributed.py:50: UserWarning: Detected KeyboardInterrupt, attempting graceful shutdown...\n",
      "  warnings.warn(*args, **kwargs)\n"
     ]
    },
    {
     "data": {
      "text/plain": [
       "1"
      ]
     },
     "execution_count": 38,
     "metadata": {},
     "output_type": "execute_result"
    },
    {
     "data": {
      "image/png": "[encoded data removed]",
      "text/plain": [
       "<Figure size 432x288 with 1 Axes>"
      ]
     },
     "metadata": {
      "needs_background": "light"
     },
     "output_type": "display_data"
    }
   ],
   "source": [
    "trainer.fit(model, dm)"
   ]
  },
  {
   "cell_type": "code",
   "execution_count": 15,
   "metadata": {
    "ExecuteTime": {
     "end_time": "2021-01-20T13:31:51.888107Z",
     "start_time": "2021-01-20T13:31:51.859261Z"
    },
    "execution": {
     "iopub.execute_input": "2021-02-23T10:49:56.604084Z",
     "iopub.status.busy": "2021-02-23T10:49:56.603768Z",
     "iopub.status.idle": "2021-02-23T10:49:56.645967Z",
     "shell.execute_reply": "2021-02-23T10:49:56.645639Z",
     "shell.execute_reply.started": "2021-02-23T10:49:56.604044Z"
    }
   },
   "outputs": [],
   "source": [
    "trainer.test()\n",
    "\n",
    "trainer.save_checkpoint(\"model1.ckpt\")"
   ]
  },
  {
   "cell_type": "markdown",
   "metadata": {},
   "source": [
    "# Inference"
   ]
  },
  {
   "cell_type": "code",
   "execution_count": 16,
   "metadata": {
    "execution": {
     "iopub.execute_input": "2021-02-23T10:50:07.135433Z",
     "iopub.status.busy": "2021-02-23T10:50:07.134902Z",
     "iopub.status.idle": "2021-02-23T10:50:07.142511Z",
     "shell.execute_reply": "2021-02-23T10:50:07.140444Z",
     "shell.execute_reply.started": "2021-02-23T10:50:07.135369Z"
    }
   },
   "outputs": [],
   "source": [
    "best_checkpoints = trainer.checkpoint_callback.best_model_path"
   ]
  },
  {
   "cell_type": "code",
   "execution_count": 17,
   "metadata": {
    "execution": {
     "iopub.execute_input": "2021-02-23T10:50:08.588818Z",
     "iopub.status.busy": "2021-02-23T10:50:08.588677Z",
     "iopub.status.idle": "2021-02-23T10:50:08.614971Z",
     "shell.execute_reply": "2021-02-23T10:50:08.614571Z",
     "shell.execute_reply.started": "2021-02-23T10:50:08.588803Z"
    }
   },
   "outputs": [],
   "source": [
    "pre_model = LitModel.load_from_checkpoint(checkpoint_path=best_checkpoints).to(\"cuda\")"
   ]
  },
  {
   "cell_type": "code",
   "execution_count": 18,
   "metadata": {
    "execution": {
     "iopub.execute_input": "2021-02-23T10:50:10.792356Z",
     "iopub.status.busy": "2021-02-23T10:50:10.792023Z",
     "iopub.status.idle": "2021-02-23T10:50:10.798962Z",
     "shell.execute_reply": "2021-02-23T10:50:10.797559Z",
     "shell.execute_reply.started": "2021-02-23T10:50:10.792317Z"
    }
   },
   "outputs": [],
   "source": [
    "pre_model.eval()\n",
    "pre_model.freeze()"
   ]
  },
  {
   "cell_type": "code",
   "execution_count": 29,
   "metadata": {
    "execution": {
     "iopub.execute_input": "2021-02-23T10:55:21.626306Z",
     "iopub.status.busy": "2021-02-23T10:55:21.625725Z",
     "iopub.status.idle": "2021-02-23T10:55:21.768544Z",
     "shell.execute_reply": "2021-02-23T10:55:21.768029Z",
     "shell.execute_reply.started": "2021-02-23T10:55:21.626238Z"
    }
   },
   "outputs": [
    {
     "data": {
      "text/plain": [
       "<matplotlib.image.AxesImage at 0x7f408a592640>"
      ]
     },
     "execution_count": 29,
     "metadata": {},
     "output_type": "execute_result"
    },
    {
     "data": {
      "image/png": "[encoded data removed]",
      "text/plain": [
       "<Figure size 432x288 with 1 Axes>"
      ]
     },
     "metadata": {
      "needs_background": "light"
     },
     "output_type": "display_data"
    }
   ],
   "source": [
    "fixed_noise = torch.randn(64, latent_dim, 1, 1, device=\"cuda\")\n",
    "temp = (\n",
    "    torchvision.utils.make_grid(\n",
    "        pre_model.generator(fixed_noise).detach().cpu(), padding=2, normalize=True\n",
    "    )\n",
    "    .detach()\n",
    "    .cpu()\n",
    "    .numpy()\n",
    ")\n",
    "temp = np.transpose(temp, (1, 2, 0))\n",
    "plt.imshow(temp)"
   ]
  },
  {
   "cell_type": "code",
   "execution_count": null,
   "metadata": {},
   "outputs": [],
   "source": []
  },
  {
   "cell_type": "code",
   "execution_count": null,
   "metadata": {},
   "outputs": [],
   "source": []
  },
  {
   "cell_type": "code",
   "execution_count": null,
   "metadata": {},
   "outputs": [],
   "source": []
  },
  {
   "cell_type": "code",
   "execution_count": null,
   "metadata": {},
   "outputs": [],
   "source": []
  },
  {
   "cell_type": "code",
   "execution_count": null,
   "metadata": {},
   "outputs": [],
   "source": []
  },
  {
   "cell_type": "code",
   "execution_count": null,
   "metadata": {},
   "outputs": [],
   "source": []
  }
 ],
 "metadata": {
  "kernelspec": {
   "display_name": "Python 3",
   "language": "python",
   "name": "python3"
  },
  "language_info": {
   "codemirror_mode": {
    "name": "ipython",
    "version": 3
   },
   "file_extension": ".py",
   "mimetype": "text/x-python",
   "name": "python",
   "nbconvert_exporter": "python",
   "pygments_lexer": "ipython3",
   "version": "3.9.1"
  },
  "toc": {
   "base_numbering": 1,
   "nav_menu": {},
   "number_sections": true,
   "sideBar": true,
   "skip_h1_title": false,
   "title_cell": "Table of Contents",
   "title_sidebar": "Contents",
   "toc_cell": false,
   "toc_position": {},
   "toc_section_display": true,
   "toc_window_display": false
  },
  "varInspector": {
   "cols": {
    "lenName": 16,
    "lenType": 16,
    "lenVar": 40
   },
   "kernels_config": {
    "python": {
     "delete_cmd_postfix": "",
     "delete_cmd_prefix": "del ",
     "library": "var_list.py",
     "varRefreshCmd": "print(var_dic_list())"
    },
    "r": {
     "delete_cmd_postfix": ") ",
     "delete_cmd_prefix": "rm(",
     "library": "var_list.r",
     "varRefreshCmd": "cat(var_dic_list()) "
    }
   },
   "types_to_exclude": [
    "module",
    "function",
    "builtin_function_or_method",
    "instance",
    "_Feature"
   ],
   "window_display": false
  }
 },
 "nbformat": 4,
 "nbformat_minor": 4
}
