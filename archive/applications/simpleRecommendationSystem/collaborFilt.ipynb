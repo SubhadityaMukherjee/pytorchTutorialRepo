{
 "cells": [
  {
   "cell_type": "code",
   "execution_count": 1,
   "metadata": {
    "ExecuteTime": {
     "end_time": "2021-01-20T13:09:42.093682Z",
     "start_time": "2021-01-20T13:09:42.090482Z"
    }
   },
   "outputs": [],
   "source": [
    "import torch\n",
    "from torch import nn\n",
    "import pytorch_lightning as pl\n",
    "from torch.utils.data import DataLoader, random_split\n",
    "from torch.nn import functional as F\n",
    "from sklearn import model_selection, preprocessing\n",
    "import numpy as np\n",
    "from pytorch_lightning import Trainer\n",
    "import torchvision.models as models\n",
    "from collections import Counter\n",
    "from pytorch_lightning import loggers as pl_loggers\n",
    "import pickle\n",
    "import os\n",
    "import pandas as pd\n",
    "\n",
    "os.environ[\"TORCH_HOME\"] = \"~/hdd/Datasets\""
   ]
  },
  {
   "cell_type": "code",
   "execution_count": 2,
   "metadata": {},
   "outputs": [],
   "source": [
    "import torchsnooper as tp"
   ]
  },
  {
   "cell_type": "markdown",
   "metadata": {},
   "source": [
    "# Verifying the data"
   ]
  },
  {
   "cell_type": "code",
   "execution_count": 3,
   "metadata": {},
   "outputs": [],
   "source": [
    "data_path = \"/home/eragon/hdd/Datasets/movielens/\""
   ]
  },
  {
   "cell_type": "code",
   "execution_count": 4,
   "metadata": {},
   "outputs": [],
   "source": [
    "df = pd.read_csv(\n",
    "    data_path + \"ratings.dat\",\n",
    "    delimiter=\"::\",\n",
    "    names=[\"user\", \"movie\", \"rating\", \"id\"],\n",
    "    engine=\"python\",\n",
    ")"
   ]
  },
  {
   "cell_type": "code",
   "execution_count": 5,
   "metadata": {},
   "outputs": [
    {
     "data": {
      "text/html": [
       "<div>\n",
       "<style scoped>\n",
       "    .dataframe tbody tr th:only-of-type {\n",
       "        vertical-align: middle;\n",
       "    }\n",
       "\n",
       "    .dataframe tbody tr th {\n",
       "        vertical-align: top;\n",
       "    }\n",
       "\n",
       "    .dataframe thead th {\n",
       "        text-align: right;\n",
       "    }\n",
       "</style>\n",
       "<table border=\"1\" class=\"dataframe\">\n",
       "  <thead>\n",
       "    <tr style=\"text-align: right;\">\n",
       "      <th></th>\n",
       "      <th>user</th>\n",
       "      <th>movie</th>\n",
       "      <th>rating</th>\n",
       "      <th>id</th>\n",
       "    </tr>\n",
       "  </thead>\n",
       "  <tbody>\n",
       "    <tr>\n",
       "      <th>0</th>\n",
       "      <td>1</td>\n",
       "      <td>1193</td>\n",
       "      <td>5</td>\n",
       "      <td>978300760</td>\n",
       "    </tr>\n",
       "    <tr>\n",
       "      <th>1</th>\n",
       "      <td>1</td>\n",
       "      <td>661</td>\n",
       "      <td>3</td>\n",
       "      <td>978302109</td>\n",
       "    </tr>\n",
       "    <tr>\n",
       "      <th>2</th>\n",
       "      <td>1</td>\n",
       "      <td>914</td>\n",
       "      <td>3</td>\n",
       "      <td>978301968</td>\n",
       "    </tr>\n",
       "  </tbody>\n",
       "</table>\n",
       "</div>"
      ],
      "text/plain": [
       "   user  movie  rating         id\n",
       "0     1   1193       5  978300760\n",
       "1     1    661       3  978302109\n",
       "2     1    914       3  978301968"
      ]
     },
     "execution_count": 5,
     "metadata": {},
     "output_type": "execute_result"
    }
   ],
   "source": [
    "df.head(3)"
   ]
  },
  {
   "cell_type": "code",
   "execution_count": 6,
   "metadata": {},
   "outputs": [
    {
     "data": {
      "text/plain": [
       "3706"
      ]
     },
     "execution_count": 6,
     "metadata": {},
     "output_type": "execute_result"
    }
   ],
   "source": [
    "df.movie.nunique()"
   ]
  },
  {
   "cell_type": "code",
   "execution_count": 7,
   "metadata": {},
   "outputs": [
    {
     "data": {
      "text/plain": [
       "6040"
      ]
     },
     "execution_count": 7,
     "metadata": {},
     "output_type": "execute_result"
    }
   ],
   "source": [
    "df.user.nunique()"
   ]
  },
  {
   "cell_type": "code",
   "execution_count": 8,
   "metadata": {},
   "outputs": [
    {
     "data": {
      "text/plain": [
       "(1000209, 4)"
      ]
     },
     "execution_count": 8,
     "metadata": {},
     "output_type": "execute_result"
    }
   ],
   "source": [
    "df.shape"
   ]
  },
  {
   "cell_type": "markdown",
   "metadata": {},
   "source": [
    "# Create model"
   ]
  },
  {
   "cell_type": "code",
   "execution_count": 17,
   "metadata": {
    "ExecuteTime": {
     "end_time": "2021-01-20T13:11:34.466990Z",
     "start_time": "2021-01-20T13:11:34.459999Z"
    }
   },
   "outputs": [],
   "source": [
    "class LitModel(pl.LightningModule):\n",
    "    def __init__(self, num_users, num_movies, learning_rate=2e-4):\n",
    "        super().__init__()\n",
    "\n",
    "        # log hyperparameters\n",
    "        self.save_hyperparameters()\n",
    "        self.learning_rate = learning_rate\n",
    "        self.user_embed = nn.Embedding(num_users, 32)\n",
    "        self.movie_embed = nn.Embedding(num_movies, 32)\n",
    "        self.out = nn.Linear(64, 1)\n",
    "        self.er = pl.metrics.MeanSquaredError()\n",
    "        self.accuracy = pl.metrics.Accuracy()\n",
    "\n",
    "    # will be used during inference\n",
    "    #     @tp.snoop()\n",
    "    def forward(self, users, movies, ratings=None):\n",
    "        user_embeds = self.user_embed(users)\n",
    "        movie_embeds = self.movie_embed(movies)\n",
    "        output = torch.cat([user_embeds, movie_embeds], dim=1)\n",
    "        output = self.out(output)\n",
    "        return output\n",
    "\n",
    "    #     @tp.snoop()\n",
    "    def training_step(self, train_batch, batch_idx):\n",
    "        u, m, r = train_batch[\"users\"], train_batch[\"movies\"], train_batch[\"ratings\"]\n",
    "        logits = self.forward(u, m, r)\n",
    "        r = r.view(-1, 1)\n",
    "        loss = nn.MSELoss()(logits, r)\n",
    "        self.log(\"train_acc_step\", self.er(r, logits))\n",
    "        self.log(\"train_loss\", loss)\n",
    "        return loss\n",
    "\n",
    "    def test_step(self, test_batch, batch_idx):\n",
    "        u, m, r = test_batch[\"users\"], test_batch[\"movies\"], test_batch[\"ratings\"]\n",
    "        logits = self.forward(u, m, r)\n",
    "        r = r.view(-1, 1)\n",
    "        loss = nn.MSELoss()(logits, r)\n",
    "        self.log(\"test_acc_step\", self.er(r, logits))\n",
    "        self.log(\"test_loss\", loss)\n",
    "        return self.er(r, logits)\n",
    "\n",
    "    def configure_optimizers(self):\n",
    "        optimizer = torch.optim.Adam(self.parameters(), lr=1e-3)\n",
    "        return optimizer"
   ]
  },
  {
   "cell_type": "markdown",
   "metadata": {},
   "source": [
    "# Load data"
   ]
  },
  {
   "cell_type": "code",
   "execution_count": 10,
   "metadata": {},
   "outputs": [],
   "source": [
    "# \"user\", \"movie\", \"rating\", \"id\""
   ]
  },
  {
   "cell_type": "code",
   "execution_count": 11,
   "metadata": {},
   "outputs": [],
   "source": [
    "class MovieDs:\n",
    "    def __init__(self, users, movies, ratings):\n",
    "        self.users = users\n",
    "        self.movies = movies\n",
    "        self.ratings = ratings\n",
    "\n",
    "    def __len__(self):\n",
    "        return len(self.users)\n",
    "\n",
    "    def __getitem__(self, item):\n",
    "        user = self.users[item]\n",
    "        movie = self.movies[item]\n",
    "        rating = self.ratings[item]\n",
    "\n",
    "        return {\n",
    "            \"users\": torch.tensor(user, dtype=torch.long),\n",
    "            \"movies\": torch.tensor(movie, dtype=torch.long),\n",
    "            \"ratings\": torch.tensor(rating, dtype=torch.float),\n",
    "        }"
   ]
  },
  {
   "cell_type": "code",
   "execution_count": 12,
   "metadata": {
    "ExecuteTime": {
     "end_time": "2021-01-20T13:11:57.734304Z",
     "start_time": "2021-01-20T13:11:57.729146Z"
    }
   },
   "outputs": [],
   "source": [
    "class CSVDataModule(pl.LightningDataModule):\n",
    "    def __init__(\n",
    "        self, batch_size, data_dir: str = \"/home/eragon/hdd/Datasets/movielens/\"\n",
    "    ):\n",
    "        super().__init__()\n",
    "        self.data_dir = data_dir\n",
    "        self.batch_size = batch_size\n",
    "\n",
    "    def setup(self, stage=None):\n",
    "        # build dataset\n",
    "        df = pd.read_csv(\n",
    "            self.data_dir + \"ratings.dat\",\n",
    "            delimiter=\"::\",\n",
    "            names=[\"user\", \"movie\", \"rating\", \"id\"],\n",
    "            engine=\"python\",\n",
    "        )\n",
    "        lbl_user = preprocessing.LabelEncoder()\n",
    "        lbl_movie = preprocessing.LabelEncoder()\n",
    "        df.user = lbl_user.fit_transform(df.user.values)\n",
    "        df.movie = lbl_movie.fit_transform(df.movie.values)\n",
    "        print(df.dtypes)\n",
    "\n",
    "        # split dataset\n",
    "        self.train, self.test = model_selection.train_test_split(\n",
    "            df, test_size=0.1, random_state=42, stratify=df.rating.values\n",
    "        )\n",
    "        print(len(self.train), len(self.test))\n",
    "\n",
    "    def train_dataloader(self):\n",
    "        md = MovieDs(\n",
    "            users=self.train.user.values,\n",
    "            movies=self.train.movie.values,\n",
    "            ratings=self.train.rating.values,\n",
    "        )\n",
    "        return DataLoader(md, batch_size=self.batch_size, shuffle=True, num_workers=12)\n",
    "\n",
    "    def test_dataloader(self):\n",
    "        md = MovieDs(\n",
    "            users=self.test.user.values,\n",
    "            movies=self.test.movie.values,\n",
    "            ratings=self.test.rating.values,\n",
    "        )\n",
    "        return DataLoader(md, batch_size=self.batch_size, num_workers=12)"
   ]
  },
  {
   "cell_type": "code",
   "execution_count": 13,
   "metadata": {
    "ExecuteTime": {
     "end_time": "2021-01-20T13:11:58.135972Z",
     "start_time": "2021-01-20T13:11:58.131286Z"
    }
   },
   "outputs": [
    {
     "name": "stdout",
     "output_type": "stream",
     "text": [
      "user      int64\n",
      "movie     int64\n",
      "rating    int64\n",
      "id        int64\n",
      "dtype: object\n",
      "900188 100021\n"
     ]
    }
   ],
   "source": [
    "dm = CSVDataModule(batch_size=1024)\n",
    "dm.setup()"
   ]
  },
  {
   "cell_type": "markdown",
   "metadata": {},
   "source": [
    "# Model"
   ]
  },
  {
   "cell_type": "code",
   "execution_count": 18,
   "metadata": {
    "ExecuteTime": {
     "end_time": "2021-01-20T13:12:04.659921Z",
     "start_time": "2021-01-20T13:12:04.444379Z"
    }
   },
   "outputs": [],
   "source": [
    "model = LitModel(df.user.nunique(), df.movie.nunique())"
   ]
  },
  {
   "cell_type": "code",
   "execution_count": 19,
   "metadata": {
    "ExecuteTime": {
     "end_time": "2021-01-20T13:12:17.444559Z",
     "start_time": "2021-01-20T13:12:17.434634Z"
    },
    "scrolled": true
   },
   "outputs": [
    {
     "name": "stderr",
     "output_type": "stream",
     "text": [
      "GPU available: True, used: True\n",
      "TPU available: None, using: 0 TPU cores\n",
      "LOCAL_RANK: 0 - CUDA_VISIBLE_DEVICES: [0]\n",
      "/home/eragon/.local/lib/python3.9/site-packages/pytorch_lightning/utilities/distributed.py:50: UserWarning: Disable automatic optimization with the trainer flag is deprecated and will be removed in v1.3.0!Please use the property on the LightningModule for disabling automatic optimization\n",
      "  warnings.warn(*args, **kwargs)\n",
      "Using native 16bit precision.\n"
     ]
    }
   ],
   "source": [
    "trainer = pl.Trainer(\n",
    "    auto_select_gpus=True,\n",
    "    gpus=1,\n",
    "    precision=16,\n",
    "    profiler=False,\n",
    "    max_epochs=10,\n",
    "    callbacks=[pl.callbacks.ProgressBar()],\n",
    "    automatic_optimization=True,\n",
    "    enable_pl_optimizer=True,\n",
    ")"
   ]
  },
  {
   "cell_type": "code",
   "execution_count": 20,
   "metadata": {
    "ExecuteTime": {
     "end_time": "2021-01-20T13:14:35.107768Z",
     "start_time": "2021-01-20T13:12:18.236980Z"
    },
    "scrolled": true
   },
   "outputs": [
    {
     "name": "stderr",
     "output_type": "stream",
     "text": [
      "\n",
      "  | Name        | Type             | Params\n",
      "-------------------------------------------------\n",
      "0 | user_embed  | Embedding        | 193 K \n",
      "1 | movie_embed | Embedding        | 118 K \n",
      "2 | out         | Linear           | 65    \n",
      "3 | er          | MeanSquaredError | 0     \n",
      "4 | accuracy    | Accuracy         | 0     \n",
      "-------------------------------------------------\n",
      "311 K     Trainable params\n",
      "0         Non-trainable params\n",
      "311 K     Total params\n"
     ]
    },
    {
     "name": "stdout",
     "output_type": "stream",
     "text": [
      "Epoch 9: 100%|██████████| 880/880 [00:06<00:00, 136.20it/s, loss=0.818, v_num=28]\n"
     ]
    },
    {
     "data": {
      "text/plain": [
       "1"
      ]
     },
     "execution_count": 20,
     "metadata": {},
     "output_type": "execute_result"
    }
   ],
   "source": [
    "trainer.fit(model, dm)"
   ]
  },
  {
   "cell_type": "code",
   "execution_count": 22,
   "metadata": {
    "ExecuteTime": {
     "end_time": "2021-01-20T13:15:54.893230Z",
     "start_time": "2021-01-20T13:15:54.232722Z"
    },
    "scrolled": true
   },
   "outputs": [
    {
     "name": "stdout",
     "output_type": "stream",
     "text": [
      "Testing: 100%|██████████| 98/98 [00:00<00:00, 105.41it/s]\n",
      "--------------------------------------------------------------------------------\n",
      "DATALOADER:0 TEST RESULTS\n",
      "{'test_acc_step': 0.8268546462059021, 'test_loss': 0.8268546462059021}\n",
      "--------------------------------------------------------------------------------\n"
     ]
    },
    {
     "data": {
      "text/plain": [
       "[{'test_acc_step': 0.8268546462059021, 'test_loss': 0.8268546462059021}]"
      ]
     },
     "execution_count": 22,
     "metadata": {},
     "output_type": "execute_result"
    }
   ],
   "source": [
    "trainer.test()"
   ]
  },
  {
   "cell_type": "code",
   "execution_count": 23,
   "metadata": {
    "ExecuteTime": {
     "end_time": "2021-01-20T13:31:51.888107Z",
     "start_time": "2021-01-20T13:31:51.859261Z"
    },
    "scrolled": true
   },
   "outputs": [],
   "source": [
    "# trainer.save_checkpoint('model1.ckpt')"
   ]
  },
  {
   "cell_type": "code",
   "execution_count": null,
   "metadata": {},
   "outputs": [],
   "source": []
  },
  {
   "cell_type": "code",
   "execution_count": null,
   "metadata": {},
   "outputs": [],
   "source": []
  },
  {
   "cell_type": "code",
   "execution_count": null,
   "metadata": {},
   "outputs": [],
   "source": []
  },
  {
   "cell_type": "code",
   "execution_count": null,
   "metadata": {},
   "outputs": [],
   "source": []
  }
 ],
 "metadata": {
  "kernelspec": {
   "display_name": "Python 3",
   "language": "python",
   "name": "python3"
  },
  "language_info": {
   "codemirror_mode": {
    "name": "ipython",
    "version": 3
   },
   "file_extension": ".py",
   "mimetype": "text/x-python",
   "name": "python",
   "nbconvert_exporter": "python",
   "pygments_lexer": "ipython3",
   "version": "3.9.1"
  },
  "toc": {
   "base_numbering": 1,
   "nav_menu": {},
   "number_sections": true,
   "sideBar": true,
   "skip_h1_title": false,
   "title_cell": "Table of Contents",
   "title_sidebar": "Contents",
   "toc_cell": false,
   "toc_position": {},
   "toc_section_display": true,
   "toc_window_display": false
  }
 },
 "nbformat": 4,
 "nbformat_minor": 4
}
